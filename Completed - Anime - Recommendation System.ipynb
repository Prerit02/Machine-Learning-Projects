{
 "cells": [
  {
   "cell_type": "code",
   "execution_count": 1,
   "metadata": {},
   "outputs": [],
   "source": [
    "import numpy as np\n",
    "import pandas as pd\n",
    "import seaborn as sns\n",
    "import matplotlib.pyplot as plt"
   ]
  },
  {
   "cell_type": "code",
   "execution_count": 2,
   "metadata": {},
   "outputs": [
    {
     "data": {
      "text/html": [
       "<div>\n",
       "<style scoped>\n",
       "    .dataframe tbody tr th:only-of-type {\n",
       "        vertical-align: middle;\n",
       "    }\n",
       "\n",
       "    .dataframe tbody tr th {\n",
       "        vertical-align: top;\n",
       "    }\n",
       "\n",
       "    .dataframe thead th {\n",
       "        text-align: right;\n",
       "    }\n",
       "</style>\n",
       "<table border=\"1\" class=\"dataframe\">\n",
       "  <thead>\n",
       "    <tr style=\"text-align: right;\">\n",
       "      <th></th>\n",
       "      <th>anime_id</th>\n",
       "      <th>name</th>\n",
       "      <th>genre</th>\n",
       "      <th>type</th>\n",
       "      <th>episodes</th>\n",
       "      <th>rating</th>\n",
       "      <th>members</th>\n",
       "    </tr>\n",
       "  </thead>\n",
       "  <tbody>\n",
       "    <tr>\n",
       "      <th>0</th>\n",
       "      <td>32281</td>\n",
       "      <td>Kimi no Na wa.</td>\n",
       "      <td>Drama, Romance, School, Supernatural</td>\n",
       "      <td>Movie</td>\n",
       "      <td>1</td>\n",
       "      <td>9.37</td>\n",
       "      <td>200630</td>\n",
       "    </tr>\n",
       "    <tr>\n",
       "      <th>1</th>\n",
       "      <td>5114</td>\n",
       "      <td>Fullmetal Alchemist: Brotherhood</td>\n",
       "      <td>Action, Adventure, Drama, Fantasy, Magic, Mili...</td>\n",
       "      <td>TV</td>\n",
       "      <td>64</td>\n",
       "      <td>9.26</td>\n",
       "      <td>793665</td>\n",
       "    </tr>\n",
       "    <tr>\n",
       "      <th>2</th>\n",
       "      <td>28977</td>\n",
       "      <td>Gintama°</td>\n",
       "      <td>Action, Comedy, Historical, Parody, Samurai, S...</td>\n",
       "      <td>TV</td>\n",
       "      <td>51</td>\n",
       "      <td>9.25</td>\n",
       "      <td>114262</td>\n",
       "    </tr>\n",
       "    <tr>\n",
       "      <th>3</th>\n",
       "      <td>9253</td>\n",
       "      <td>Steins;Gate</td>\n",
       "      <td>Sci-Fi, Thriller</td>\n",
       "      <td>TV</td>\n",
       "      <td>24</td>\n",
       "      <td>9.17</td>\n",
       "      <td>673572</td>\n",
       "    </tr>\n",
       "    <tr>\n",
       "      <th>4</th>\n",
       "      <td>9969</td>\n",
       "      <td>Gintama&amp;#039;</td>\n",
       "      <td>Action, Comedy, Historical, Parody, Samurai, S...</td>\n",
       "      <td>TV</td>\n",
       "      <td>51</td>\n",
       "      <td>9.16</td>\n",
       "      <td>151266</td>\n",
       "    </tr>\n",
       "  </tbody>\n",
       "</table>\n",
       "</div>"
      ],
      "text/plain": [
       "   anime_id                              name  \\\n",
       "0     32281                    Kimi no Na wa.   \n",
       "1      5114  Fullmetal Alchemist: Brotherhood   \n",
       "2     28977                          Gintama°   \n",
       "3      9253                       Steins;Gate   \n",
       "4      9969                     Gintama&#039;   \n",
       "\n",
       "                                               genre   type episodes  rating  \\\n",
       "0               Drama, Romance, School, Supernatural  Movie        1    9.37   \n",
       "1  Action, Adventure, Drama, Fantasy, Magic, Mili...     TV       64    9.26   \n",
       "2  Action, Comedy, Historical, Parody, Samurai, S...     TV       51    9.25   \n",
       "3                                   Sci-Fi, Thriller     TV       24    9.17   \n",
       "4  Action, Comedy, Historical, Parody, Samurai, S...     TV       51    9.16   \n",
       "\n",
       "   members  \n",
       "0   200630  \n",
       "1   793665  \n",
       "2   114262  \n",
       "3   673572  \n",
       "4   151266  "
      ]
     },
     "execution_count": 2,
     "metadata": {},
     "output_type": "execute_result"
    }
   ],
   "source": [
    "df_anime = pd.read_csv(r\"Desktop\\PGP-DSE Data\\Machine Learning\\Recommender Systems Datasets\\Anime Recommendation\\anime.csv\")\n",
    "df_anime.head()"
   ]
  },
  {
   "cell_type": "code",
   "execution_count": 3,
   "metadata": {},
   "outputs": [
    {
     "data": {
      "text/html": [
       "<div>\n",
       "<style scoped>\n",
       "    .dataframe tbody tr th:only-of-type {\n",
       "        vertical-align: middle;\n",
       "    }\n",
       "\n",
       "    .dataframe tbody tr th {\n",
       "        vertical-align: top;\n",
       "    }\n",
       "\n",
       "    .dataframe thead th {\n",
       "        text-align: right;\n",
       "    }\n",
       "</style>\n",
       "<table border=\"1\" class=\"dataframe\">\n",
       "  <thead>\n",
       "    <tr style=\"text-align: right;\">\n",
       "      <th></th>\n",
       "      <th>user_id</th>\n",
       "      <th>anime_id</th>\n",
       "      <th>rating</th>\n",
       "    </tr>\n",
       "  </thead>\n",
       "  <tbody>\n",
       "    <tr>\n",
       "      <th>0</th>\n",
       "      <td>1</td>\n",
       "      <td>20</td>\n",
       "      <td>-1</td>\n",
       "    </tr>\n",
       "    <tr>\n",
       "      <th>1</th>\n",
       "      <td>1</td>\n",
       "      <td>24</td>\n",
       "      <td>-1</td>\n",
       "    </tr>\n",
       "    <tr>\n",
       "      <th>2</th>\n",
       "      <td>1</td>\n",
       "      <td>79</td>\n",
       "      <td>-1</td>\n",
       "    </tr>\n",
       "    <tr>\n",
       "      <th>3</th>\n",
       "      <td>1</td>\n",
       "      <td>226</td>\n",
       "      <td>-1</td>\n",
       "    </tr>\n",
       "    <tr>\n",
       "      <th>4</th>\n",
       "      <td>1</td>\n",
       "      <td>241</td>\n",
       "      <td>-1</td>\n",
       "    </tr>\n",
       "  </tbody>\n",
       "</table>\n",
       "</div>"
      ],
      "text/plain": [
       "   user_id  anime_id  rating\n",
       "0        1        20      -1\n",
       "1        1        24      -1\n",
       "2        1        79      -1\n",
       "3        1       226      -1\n",
       "4        1       241      -1"
      ]
     },
     "execution_count": 3,
     "metadata": {},
     "output_type": "execute_result"
    }
   ],
   "source": [
    "df_rating = pd.read_csv(r\"Desktop\\PGP-DSE Data\\Machine Learning\\Recommender Systems Datasets\\Anime Recommendation\\rating.csv\")\n",
    "df_rating.head()"
   ]
  },
  {
   "cell_type": "code",
   "execution_count": 4,
   "metadata": {},
   "outputs": [],
   "source": [
    "df_rating.replace({-1:np.nan},inplace=True)"
   ]
  },
  {
   "cell_type": "markdown",
   "metadata": {},
   "source": [
    "# =============================================================="
   ]
  },
  {
   "cell_type": "markdown",
   "metadata": {},
   "source": [
    "# Implementing Content Based Filtering"
   ]
  },
  {
   "cell_type": "markdown",
   "metadata": {},
   "source": [
    "# =============================================================="
   ]
  },
  {
   "cell_type": "code",
   "execution_count": 52,
   "metadata": {},
   "outputs": [
    {
     "data": {
      "text/plain": [
       "TV         3787\n",
       "OVA        3311\n",
       "Movie      2348\n",
       "Special    1676\n",
       "ONA         659\n",
       "Music       488\n",
       "Name: type, dtype: int64"
      ]
     },
     "execution_count": 52,
     "metadata": {},
     "output_type": "execute_result"
    }
   ],
   "source": [
    "df_anime['type'].value_counts()"
   ]
  },
  {
   "cell_type": "code",
   "execution_count": 121,
   "metadata": {},
   "outputs": [],
   "source": [
    "df1 = df_anime[df_anime['type']=='TV']\n",
    "df2 = df_anime[df_anime['type']=='OVA']\n",
    "df3 = df_anime[df_anime['type']=='Movie']\n",
    "df4 = df_anime[df_anime['type']=='Special']\n",
    "df5 = df_anime[df_anime['type']=='ONA']\n",
    "df6 = df_anime[df_anime['type']=='Music']"
   ]
  },
  {
   "cell_type": "code",
   "execution_count": 122,
   "metadata": {},
   "outputs": [
    {
     "data": {
      "text/html": [
       "<div>\n",
       "<style scoped>\n",
       "    .dataframe tbody tr th:only-of-type {\n",
       "        vertical-align: middle;\n",
       "    }\n",
       "\n",
       "    .dataframe tbody tr th {\n",
       "        vertical-align: top;\n",
       "    }\n",
       "\n",
       "    .dataframe thead th {\n",
       "        text-align: right;\n",
       "    }\n",
       "</style>\n",
       "<table border=\"1\" class=\"dataframe\">\n",
       "  <thead>\n",
       "    <tr style=\"text-align: right;\">\n",
       "      <th></th>\n",
       "      <th>anime_id</th>\n",
       "      <th>name</th>\n",
       "      <th>genre</th>\n",
       "      <th>type</th>\n",
       "      <th>episodes</th>\n",
       "      <th>rating</th>\n",
       "      <th>members</th>\n",
       "    </tr>\n",
       "  </thead>\n",
       "  <tbody>\n",
       "    <tr>\n",
       "      <th>169</th>\n",
       "      <td>34240</td>\n",
       "      <td>Shelter</td>\n",
       "      <td>Music, Sci-Fi</td>\n",
       "      <td>Music</td>\n",
       "      <td>1</td>\n",
       "      <td>8.38</td>\n",
       "      <td>71136</td>\n",
       "    </tr>\n",
       "    <tr>\n",
       "      <th>336</th>\n",
       "      <td>731</td>\n",
       "      <td>Interstella5555: The 5tory of The 5ecret 5tar ...</td>\n",
       "      <td>Adventure, Drama, Music, Sci-Fi</td>\n",
       "      <td>Music</td>\n",
       "      <td>1</td>\n",
       "      <td>8.17</td>\n",
       "      <td>31464</td>\n",
       "    </tr>\n",
       "    <tr>\n",
       "      <th>533</th>\n",
       "      <td>17949</td>\n",
       "      <td>The Everlasting Guilty Crown</td>\n",
       "      <td>Music</td>\n",
       "      <td>Music</td>\n",
       "      <td>1</td>\n",
       "      <td>8.00</td>\n",
       "      <td>11663</td>\n",
       "    </tr>\n",
       "    <tr>\n",
       "      <th>1178</th>\n",
       "      <td>2768</td>\n",
       "      <td>CLAMP in Wonderland 2</td>\n",
       "      <td>Action, Comedy, Drama, Fantasy, Magic, Music, ...</td>\n",
       "      <td>Music</td>\n",
       "      <td>1</td>\n",
       "      <td>7.64</td>\n",
       "      <td>13985</td>\n",
       "    </tr>\n",
       "    <tr>\n",
       "      <th>1267</th>\n",
       "      <td>9930</td>\n",
       "      <td>Snow Halation</td>\n",
       "      <td>Music</td>\n",
       "      <td>Music</td>\n",
       "      <td>1</td>\n",
       "      <td>7.61</td>\n",
       "      <td>8731</td>\n",
       "    </tr>\n",
       "  </tbody>\n",
       "</table>\n",
       "</div>"
      ],
      "text/plain": [
       "      anime_id                                               name  \\\n",
       "169      34240                                            Shelter   \n",
       "336        731  Interstella5555: The 5tory of The 5ecret 5tar ...   \n",
       "533      17949                       The Everlasting Guilty Crown   \n",
       "1178      2768                              CLAMP in Wonderland 2   \n",
       "1267      9930                                      Snow Halation   \n",
       "\n",
       "                                                  genre   type episodes  \\\n",
       "169                                       Music, Sci-Fi  Music        1   \n",
       "336                     Adventure, Drama, Music, Sci-Fi  Music        1   \n",
       "533                                               Music  Music        1   \n",
       "1178  Action, Comedy, Drama, Fantasy, Magic, Music, ...  Music        1   \n",
       "1267                                              Music  Music        1   \n",
       "\n",
       "      rating  members  \n",
       "169     8.38    71136  \n",
       "336     8.17    31464  \n",
       "533     8.00    11663  \n",
       "1178    7.64    13985  \n",
       "1267    7.61     8731  "
      ]
     },
     "execution_count": 122,
     "metadata": {},
     "output_type": "execute_result"
    }
   ],
   "source": [
    "df6.head()"
   ]
  },
  {
   "cell_type": "code",
   "execution_count": 123,
   "metadata": {},
   "outputs": [],
   "source": [
    "df1 = df1.reset_index()\n",
    "df1.drop(columns=['index'],axis=1,inplace=True)\n",
    "\n",
    "df2 = df2.reset_index()\n",
    "df2.drop(columns=['index'],axis=1,inplace=True)\n",
    "\n",
    "df3 = df3.reset_index()\n",
    "df3.drop(columns=['index'],axis=1,inplace=True)\n",
    "\n",
    "df4 = df4.reset_index()\n",
    "df4.drop(columns=['index'],axis=1,inplace=True)\n",
    "\n",
    "df5 = df5.reset_index()\n",
    "df5.drop(columns=['index'],axis=1,inplace=True)\n",
    "\n",
    "df6 = df6.reset_index()\n",
    "df6.drop(columns=['index'],axis=1,inplace=True)"
   ]
  },
  {
   "cell_type": "code",
   "execution_count": 124,
   "metadata": {},
   "outputs": [],
   "source": [
    "from sklearn.feature_extraction.text import TfidfVectorizer\n",
    "\n",
    "tfv = TfidfVectorizer(min_df=3,  max_features=None, \n",
    "            strip_accents='unicode', analyzer='word',token_pattern=r'\\w{1,}',\n",
    "            ngram_range=(1, 3),\n",
    "            stop_words = 'english')"
   ]
  },
  {
   "cell_type": "markdown",
   "metadata": {},
   "source": [
    "# Recommendations for TV Series"
   ]
  },
  {
   "cell_type": "code",
   "execution_count": 125,
   "metadata": {},
   "outputs": [
    {
     "data": {
      "text/html": [
       "<div>\n",
       "<style scoped>\n",
       "    .dataframe tbody tr th:only-of-type {\n",
       "        vertical-align: middle;\n",
       "    }\n",
       "\n",
       "    .dataframe tbody tr th {\n",
       "        vertical-align: top;\n",
       "    }\n",
       "\n",
       "    .dataframe thead th {\n",
       "        text-align: right;\n",
       "    }\n",
       "</style>\n",
       "<table border=\"1\" class=\"dataframe\">\n",
       "  <thead>\n",
       "    <tr style=\"text-align: right;\">\n",
       "      <th></th>\n",
       "      <th>anime_id</th>\n",
       "      <th>name</th>\n",
       "      <th>genre</th>\n",
       "      <th>type</th>\n",
       "      <th>episodes</th>\n",
       "      <th>rating</th>\n",
       "      <th>members</th>\n",
       "    </tr>\n",
       "  </thead>\n",
       "  <tbody>\n",
       "    <tr>\n",
       "      <th>0</th>\n",
       "      <td>5114</td>\n",
       "      <td>Fullmetal Alchemist: Brotherhood</td>\n",
       "      <td>Action, Adventure, Drama, Fantasy, Magic, Mili...</td>\n",
       "      <td>TV</td>\n",
       "      <td>64</td>\n",
       "      <td>9.26</td>\n",
       "      <td>793665</td>\n",
       "    </tr>\n",
       "    <tr>\n",
       "      <th>1</th>\n",
       "      <td>28977</td>\n",
       "      <td>Gintama°</td>\n",
       "      <td>Action, Comedy, Historical, Parody, Samurai, S...</td>\n",
       "      <td>TV</td>\n",
       "      <td>51</td>\n",
       "      <td>9.25</td>\n",
       "      <td>114262</td>\n",
       "    </tr>\n",
       "    <tr>\n",
       "      <th>2</th>\n",
       "      <td>9253</td>\n",
       "      <td>Steins;Gate</td>\n",
       "      <td>Sci-Fi, Thriller</td>\n",
       "      <td>TV</td>\n",
       "      <td>24</td>\n",
       "      <td>9.17</td>\n",
       "      <td>673572</td>\n",
       "    </tr>\n",
       "    <tr>\n",
       "      <th>3</th>\n",
       "      <td>9969</td>\n",
       "      <td>Gintama&amp;#039;</td>\n",
       "      <td>Action, Comedy, Historical, Parody, Samurai, S...</td>\n",
       "      <td>TV</td>\n",
       "      <td>51</td>\n",
       "      <td>9.16</td>\n",
       "      <td>151266</td>\n",
       "    </tr>\n",
       "    <tr>\n",
       "      <th>4</th>\n",
       "      <td>32935</td>\n",
       "      <td>Haikyuu!!: Karasuno Koukou VS Shiratorizawa Ga...</td>\n",
       "      <td>Comedy, Drama, School, Shounen, Sports</td>\n",
       "      <td>TV</td>\n",
       "      <td>10</td>\n",
       "      <td>9.15</td>\n",
       "      <td>93351</td>\n",
       "    </tr>\n",
       "  </tbody>\n",
       "</table>\n",
       "</div>"
      ],
      "text/plain": [
       "   anime_id                                               name  \\\n",
       "0      5114                   Fullmetal Alchemist: Brotherhood   \n",
       "1     28977                                           Gintama°   \n",
       "2      9253                                        Steins;Gate   \n",
       "3      9969                                      Gintama&#039;   \n",
       "4     32935  Haikyuu!!: Karasuno Koukou VS Shiratorizawa Ga...   \n",
       "\n",
       "                                               genre type episodes  rating  \\\n",
       "0  Action, Adventure, Drama, Fantasy, Magic, Mili...   TV       64    9.26   \n",
       "1  Action, Comedy, Historical, Parody, Samurai, S...   TV       51    9.25   \n",
       "2                                   Sci-Fi, Thriller   TV       24    9.17   \n",
       "3  Action, Comedy, Historical, Parody, Samurai, S...   TV       51    9.16   \n",
       "4             Comedy, Drama, School, Shounen, Sports   TV       10    9.15   \n",
       "\n",
       "   members  \n",
       "0   793665  \n",
       "1   114262  \n",
       "2   673572  \n",
       "3   151266  \n",
       "4    93351  "
      ]
     },
     "execution_count": 125,
     "metadata": {},
     "output_type": "execute_result"
    }
   ],
   "source": [
    "df1.head()"
   ]
  },
  {
   "cell_type": "code",
   "execution_count": 126,
   "metadata": {},
   "outputs": [
    {
     "data": {
      "text/plain": [
       "(3787, 988)"
      ]
     },
     "execution_count": 126,
     "metadata": {},
     "output_type": "execute_result"
    }
   ],
   "source": [
    "# Filling NaNs with empty string\n",
    "df1['genre'] = df1['genre'].fillna('')\n",
    "genres_str = df1['genre'].str.split(',').astype(str)\n",
    "tfv_matrix = tfv.fit_transform(genres_str)\n",
    "tfv_matrix.shape"
   ]
  },
  {
   "cell_type": "code",
   "execution_count": 127,
   "metadata": {},
   "outputs": [],
   "source": [
    "from sklearn.metrics.pairwise import sigmoid_kernel\n",
    "\n",
    "# Compute the sigmoid kernel\n",
    "sig = sigmoid_kernel(tfv_matrix, tfv_matrix)"
   ]
  },
  {
   "cell_type": "code",
   "execution_count": 128,
   "metadata": {},
   "outputs": [],
   "source": [
    "indices = pd.Series(df1.index, index=df1['name']).drop_duplicates()"
   ]
  },
  {
   "cell_type": "code",
   "execution_count": 129,
   "metadata": {},
   "outputs": [],
   "source": [
    "# Creating our Recommendation Function\n",
    "def give_rec_tv(title, sig=sig):\n",
    "    # Get the index corresponding to original_title\n",
    "    idx = indices[title]\n",
    "    # Get the pairwsie similarity scores \n",
    "    sig_scores = list(enumerate(sig[idx]))\n",
    "    # Sort the movies \n",
    "    sig_scores = sorted(sig_scores, key=lambda x: x[1], reverse=True)\n",
    "    # Scores of the 10 most similar movies\n",
    "    sig_scores = sig_scores[1:6]\n",
    "    # Movie indices\n",
    "    anime_indices = [i[0] for i in sig_scores]\n",
    "    # Top 10 most similar movies\n",
    "    return pd.DataFrame({'Anime name': df1['name'].iloc[anime_indices].values,'Rating': df1['rating'].iloc[anime_indices].values})"
   ]
  },
  {
   "cell_type": "code",
   "execution_count": 130,
   "metadata": {},
   "outputs": [
    {
     "data": {
      "text/html": [
       "<div>\n",
       "<style scoped>\n",
       "    .dataframe tbody tr th:only-of-type {\n",
       "        vertical-align: middle;\n",
       "    }\n",
       "\n",
       "    .dataframe tbody tr th {\n",
       "        vertical-align: top;\n",
       "    }\n",
       "\n",
       "    .dataframe thead th {\n",
       "        text-align: right;\n",
       "    }\n",
       "</style>\n",
       "<table border=\"1\" class=\"dataframe\">\n",
       "  <thead>\n",
       "    <tr style=\"text-align: right;\">\n",
       "      <th></th>\n",
       "      <th>Anime name</th>\n",
       "      <th>Rating</th>\n",
       "    </tr>\n",
       "  </thead>\n",
       "  <tbody>\n",
       "    <tr>\n",
       "      <th>0</th>\n",
       "      <td>Gintama&amp;#039;</td>\n",
       "      <td>9.16</td>\n",
       "    </tr>\n",
       "    <tr>\n",
       "      <th>1</th>\n",
       "      <td>Gintama&amp;#039;: Enchousen</td>\n",
       "      <td>9.11</td>\n",
       "    </tr>\n",
       "    <tr>\n",
       "      <th>2</th>\n",
       "      <td>Gintama</td>\n",
       "      <td>9.04</td>\n",
       "    </tr>\n",
       "    <tr>\n",
       "      <th>3</th>\n",
       "      <td>Gintama (2017)</td>\n",
       "      <td>NaN</td>\n",
       "    </tr>\n",
       "    <tr>\n",
       "      <th>4</th>\n",
       "      <td>Tono to Issho: Gantai no Yabou</td>\n",
       "      <td>6.73</td>\n",
       "    </tr>\n",
       "  </tbody>\n",
       "</table>\n",
       "</div>"
      ],
      "text/plain": [
       "                       Anime name  Rating\n",
       "0                   Gintama&#039;    9.16\n",
       "1        Gintama&#039;: Enchousen    9.11\n",
       "2                         Gintama    9.04\n",
       "3                  Gintama (2017)     NaN\n",
       "4  Tono to Issho: Gantai no Yabou    6.73"
      ]
     },
     "execution_count": 130,
     "metadata": {},
     "output_type": "execute_result"
    }
   ],
   "source": [
    "give_rec_tv('Gintama°')"
   ]
  },
  {
   "cell_type": "markdown",
   "metadata": {},
   "source": [
    "# Recommendations for OVA"
   ]
  },
  {
   "cell_type": "code",
   "execution_count": 131,
   "metadata": {},
   "outputs": [
    {
     "data": {
      "text/html": [
       "<div>\n",
       "<style scoped>\n",
       "    .dataframe tbody tr th:only-of-type {\n",
       "        vertical-align: middle;\n",
       "    }\n",
       "\n",
       "    .dataframe tbody tr th {\n",
       "        vertical-align: top;\n",
       "    }\n",
       "\n",
       "    .dataframe thead th {\n",
       "        text-align: right;\n",
       "    }\n",
       "</style>\n",
       "<table border=\"1\" class=\"dataframe\">\n",
       "  <thead>\n",
       "    <tr style=\"text-align: right;\">\n",
       "      <th></th>\n",
       "      <th>anime_id</th>\n",
       "      <th>name</th>\n",
       "      <th>genre</th>\n",
       "      <th>type</th>\n",
       "      <th>episodes</th>\n",
       "      <th>rating</th>\n",
       "      <th>members</th>\n",
       "    </tr>\n",
       "  </thead>\n",
       "  <tbody>\n",
       "    <tr>\n",
       "      <th>0</th>\n",
       "      <td>820</td>\n",
       "      <td>Ginga Eiyuu Densetsu</td>\n",
       "      <td>Drama, Military, Sci-Fi, Space</td>\n",
       "      <td>OVA</td>\n",
       "      <td>110</td>\n",
       "      <td>9.11</td>\n",
       "      <td>80679</td>\n",
       "    </tr>\n",
       "    <tr>\n",
       "      <th>1</th>\n",
       "      <td>44</td>\n",
       "      <td>Rurouni Kenshin: Meiji Kenkaku Romantan - Tsui...</td>\n",
       "      <td>Action, Drama, Historical, Martial Arts, Roman...</td>\n",
       "      <td>OVA</td>\n",
       "      <td>4</td>\n",
       "      <td>8.83</td>\n",
       "      <td>129307</td>\n",
       "    </tr>\n",
       "    <tr>\n",
       "      <th>2</th>\n",
       "      <td>32366</td>\n",
       "      <td>Gintama°: Aizome Kaori-hen</td>\n",
       "      <td>Comedy, Parody</td>\n",
       "      <td>OVA</td>\n",
       "      <td>2</td>\n",
       "      <td>8.69</td>\n",
       "      <td>16947</td>\n",
       "    </tr>\n",
       "    <tr>\n",
       "      <th>3</th>\n",
       "      <td>30709</td>\n",
       "      <td>Kamisama Hajimemashita: Kako-hen</td>\n",
       "      <td>Comedy, Demons, Fantasy, Shoujo, Supernatural</td>\n",
       "      <td>OVA</td>\n",
       "      <td>4</td>\n",
       "      <td>8.64</td>\n",
       "      <td>33422</td>\n",
       "    </tr>\n",
       "    <tr>\n",
       "      <th>4</th>\n",
       "      <td>777</td>\n",
       "      <td>Hellsing Ultimate</td>\n",
       "      <td>Action, Horror, Military, Seinen, Supernatural...</td>\n",
       "      <td>OVA</td>\n",
       "      <td>10</td>\n",
       "      <td>8.59</td>\n",
       "      <td>297454</td>\n",
       "    </tr>\n",
       "  </tbody>\n",
       "</table>\n",
       "</div>"
      ],
      "text/plain": [
       "   anime_id                                               name  \\\n",
       "0       820                               Ginga Eiyuu Densetsu   \n",
       "1        44  Rurouni Kenshin: Meiji Kenkaku Romantan - Tsui...   \n",
       "2     32366                         Gintama°: Aizome Kaori-hen   \n",
       "3     30709                   Kamisama Hajimemashita: Kako-hen   \n",
       "4       777                                  Hellsing Ultimate   \n",
       "\n",
       "                                               genre type episodes  rating  \\\n",
       "0                     Drama, Military, Sci-Fi, Space  OVA      110    9.11   \n",
       "1  Action, Drama, Historical, Martial Arts, Roman...  OVA        4    8.83   \n",
       "2                                     Comedy, Parody  OVA        2    8.69   \n",
       "3      Comedy, Demons, Fantasy, Shoujo, Supernatural  OVA        4    8.64   \n",
       "4  Action, Horror, Military, Seinen, Supernatural...  OVA       10    8.59   \n",
       "\n",
       "   members  \n",
       "0    80679  \n",
       "1   129307  \n",
       "2    16947  \n",
       "3    33422  \n",
       "4   297454  "
      ]
     },
     "execution_count": 131,
     "metadata": {},
     "output_type": "execute_result"
    }
   ],
   "source": [
    "df2.head()"
   ]
  },
  {
   "cell_type": "code",
   "execution_count": 132,
   "metadata": {},
   "outputs": [
    {
     "data": {
      "text/plain": [
       "(3311, 730)"
      ]
     },
     "execution_count": 132,
     "metadata": {},
     "output_type": "execute_result"
    }
   ],
   "source": [
    "# Filling NaNs with empty string\n",
    "df2['genre'] = df2['genre'].fillna('')\n",
    "genres_str = df2['genre'].str.split(',').astype(str)\n",
    "tfv_matrix = tfv.fit_transform(genres_str)\n",
    "tfv_matrix.shape"
   ]
  },
  {
   "cell_type": "code",
   "execution_count": 133,
   "metadata": {},
   "outputs": [],
   "source": [
    "from sklearn.metrics.pairwise import sigmoid_kernel\n",
    "\n",
    "# Compute the sigmoid kernel\n",
    "sig = sigmoid_kernel(tfv_matrix, tfv_matrix)"
   ]
  },
  {
   "cell_type": "code",
   "execution_count": 134,
   "metadata": {},
   "outputs": [],
   "source": [
    "indices = pd.Series(df2.index, index=df2['name']).drop_duplicates()"
   ]
  },
  {
   "cell_type": "code",
   "execution_count": 135,
   "metadata": {},
   "outputs": [],
   "source": [
    "# Creating our Recommendation Function\n",
    "def give_rec_OVA(title, sig=sig):\n",
    "    # Get the index corresponding to original_title\n",
    "    idx = indices[title]\n",
    "    # Get the pairwsie similarity scores \n",
    "    sig_scores = list(enumerate(sig[idx]))\n",
    "    # Sort the movies \n",
    "    sig_scores = sorted(sig_scores, key=lambda x: x[1], reverse=True)\n",
    "    # Scores of the 10 most similar movies\n",
    "    sig_scores = sig_scores[1:6]\n",
    "    # Movie indices\n",
    "    anime_indices = [i[0] for i in sig_scores]\n",
    "    # Top 10 most similar movies\n",
    "    return pd.DataFrame({'Anime name': df2['name'].iloc[anime_indices].values,'Rating': df2['rating'].iloc[anime_indices].values})"
   ]
  },
  {
   "cell_type": "code",
   "execution_count": 136,
   "metadata": {},
   "outputs": [
    {
     "data": {
      "text/html": [
       "<div>\n",
       "<style scoped>\n",
       "    .dataframe tbody tr th:only-of-type {\n",
       "        vertical-align: middle;\n",
       "    }\n",
       "\n",
       "    .dataframe tbody tr th {\n",
       "        vertical-align: top;\n",
       "    }\n",
       "\n",
       "    .dataframe thead th {\n",
       "        text-align: right;\n",
       "    }\n",
       "</style>\n",
       "<table border=\"1\" class=\"dataframe\">\n",
       "  <thead>\n",
       "    <tr style=\"text-align: right;\">\n",
       "      <th></th>\n",
       "      <th>Anime name</th>\n",
       "      <th>Rating</th>\n",
       "    </tr>\n",
       "  </thead>\n",
       "  <tbody>\n",
       "    <tr>\n",
       "      <th>0</th>\n",
       "      <td>Ginga Eiyuu Densetsu Gaiden: Rasen Meikyuu</td>\n",
       "      <td>8.10</td>\n",
       "    </tr>\n",
       "    <tr>\n",
       "      <th>1</th>\n",
       "      <td>Uchuu Senkan Yamato 2199</td>\n",
       "      <td>8.53</td>\n",
       "    </tr>\n",
       "    <tr>\n",
       "      <th>2</th>\n",
       "      <td>Uchuu Senkan Yamato 2202: Ai no Senshi-tachi</td>\n",
       "      <td>NaN</td>\n",
       "    </tr>\n",
       "    <tr>\n",
       "      <th>3</th>\n",
       "      <td>Musekinin Kanchou Tylor OVA</td>\n",
       "      <td>7.33</td>\n",
       "    </tr>\n",
       "    <tr>\n",
       "      <th>4</th>\n",
       "      <td>Gunslinger Girl: Il Teatrino OVA</td>\n",
       "      <td>7.13</td>\n",
       "    </tr>\n",
       "  </tbody>\n",
       "</table>\n",
       "</div>"
      ],
      "text/plain": [
       "                                     Anime name  Rating\n",
       "0    Ginga Eiyuu Densetsu Gaiden: Rasen Meikyuu    8.10\n",
       "1                      Uchuu Senkan Yamato 2199    8.53\n",
       "2  Uchuu Senkan Yamato 2202: Ai no Senshi-tachi     NaN\n",
       "3                   Musekinin Kanchou Tylor OVA    7.33\n",
       "4              Gunslinger Girl: Il Teatrino OVA    7.13"
      ]
     },
     "execution_count": 136,
     "metadata": {},
     "output_type": "execute_result"
    }
   ],
   "source": [
    "give_rec_OVA('Ginga Eiyuu Densetsu')"
   ]
  },
  {
   "cell_type": "markdown",
   "metadata": {},
   "source": [
    "# Recommendations for Movies"
   ]
  },
  {
   "cell_type": "code",
   "execution_count": 137,
   "metadata": {},
   "outputs": [
    {
     "data": {
      "text/html": [
       "<div>\n",
       "<style scoped>\n",
       "    .dataframe tbody tr th:only-of-type {\n",
       "        vertical-align: middle;\n",
       "    }\n",
       "\n",
       "    .dataframe tbody tr th {\n",
       "        vertical-align: top;\n",
       "    }\n",
       "\n",
       "    .dataframe thead th {\n",
       "        text-align: right;\n",
       "    }\n",
       "</style>\n",
       "<table border=\"1\" class=\"dataframe\">\n",
       "  <thead>\n",
       "    <tr style=\"text-align: right;\">\n",
       "      <th></th>\n",
       "      <th>anime_id</th>\n",
       "      <th>name</th>\n",
       "      <th>genre</th>\n",
       "      <th>type</th>\n",
       "      <th>episodes</th>\n",
       "      <th>rating</th>\n",
       "      <th>members</th>\n",
       "    </tr>\n",
       "  </thead>\n",
       "  <tbody>\n",
       "    <tr>\n",
       "      <th>0</th>\n",
       "      <td>32281</td>\n",
       "      <td>Kimi no Na wa.</td>\n",
       "      <td>Drama, Romance, School, Supernatural</td>\n",
       "      <td>Movie</td>\n",
       "      <td>1</td>\n",
       "      <td>9.37</td>\n",
       "      <td>200630</td>\n",
       "    </tr>\n",
       "    <tr>\n",
       "      <th>1</th>\n",
       "      <td>15335</td>\n",
       "      <td>Gintama Movie: Kanketsu-hen - Yorozuya yo Eien...</td>\n",
       "      <td>Action, Comedy, Historical, Parody, Samurai, S...</td>\n",
       "      <td>Movie</td>\n",
       "      <td>1</td>\n",
       "      <td>9.10</td>\n",
       "      <td>72534</td>\n",
       "    </tr>\n",
       "    <tr>\n",
       "      <th>2</th>\n",
       "      <td>28851</td>\n",
       "      <td>Koe no Katachi</td>\n",
       "      <td>Drama, School, Shounen</td>\n",
       "      <td>Movie</td>\n",
       "      <td>1</td>\n",
       "      <td>9.05</td>\n",
       "      <td>102733</td>\n",
       "    </tr>\n",
       "    <tr>\n",
       "      <th>3</th>\n",
       "      <td>199</td>\n",
       "      <td>Sen to Chihiro no Kamikakushi</td>\n",
       "      <td>Adventure, Drama, Supernatural</td>\n",
       "      <td>Movie</td>\n",
       "      <td>1</td>\n",
       "      <td>8.93</td>\n",
       "      <td>466254</td>\n",
       "    </tr>\n",
       "    <tr>\n",
       "      <th>4</th>\n",
       "      <td>12355</td>\n",
       "      <td>Ookami Kodomo no Ame to Yuki</td>\n",
       "      <td>Fantasy, Slice of Life</td>\n",
       "      <td>Movie</td>\n",
       "      <td>1</td>\n",
       "      <td>8.84</td>\n",
       "      <td>226193</td>\n",
       "    </tr>\n",
       "  </tbody>\n",
       "</table>\n",
       "</div>"
      ],
      "text/plain": [
       "   anime_id                                               name  \\\n",
       "0     32281                                     Kimi no Na wa.   \n",
       "1     15335  Gintama Movie: Kanketsu-hen - Yorozuya yo Eien...   \n",
       "2     28851                                     Koe no Katachi   \n",
       "3       199                      Sen to Chihiro no Kamikakushi   \n",
       "4     12355                       Ookami Kodomo no Ame to Yuki   \n",
       "\n",
       "                                               genre   type episodes  rating  \\\n",
       "0               Drama, Romance, School, Supernatural  Movie        1    9.37   \n",
       "1  Action, Comedy, Historical, Parody, Samurai, S...  Movie        1    9.10   \n",
       "2                             Drama, School, Shounen  Movie        1    9.05   \n",
       "3                     Adventure, Drama, Supernatural  Movie        1    8.93   \n",
       "4                             Fantasy, Slice of Life  Movie        1    8.84   \n",
       "\n",
       "   members  \n",
       "0   200630  \n",
       "1    72534  \n",
       "2   102733  \n",
       "3   466254  \n",
       "4   226193  "
      ]
     },
     "execution_count": 137,
     "metadata": {},
     "output_type": "execute_result"
    }
   ],
   "source": [
    "df3.head()"
   ]
  },
  {
   "cell_type": "code",
   "execution_count": 138,
   "metadata": {},
   "outputs": [
    {
     "data": {
      "text/plain": [
       "(2348, 541)"
      ]
     },
     "execution_count": 138,
     "metadata": {},
     "output_type": "execute_result"
    }
   ],
   "source": [
    "# Filling NaNs with empty string\n",
    "df3['genre'] = df3['genre'].fillna('')\n",
    "genres_str = df3['genre'].str.split(',').astype(str)\n",
    "tfv_matrix = tfv.fit_transform(genres_str)\n",
    "tfv_matrix.shape"
   ]
  },
  {
   "cell_type": "code",
   "execution_count": 139,
   "metadata": {},
   "outputs": [],
   "source": [
    "from sklearn.metrics.pairwise import sigmoid_kernel\n",
    "\n",
    "# Compute the sigmoid kernel\n",
    "sig = sigmoid_kernel(tfv_matrix, tfv_matrix)"
   ]
  },
  {
   "cell_type": "code",
   "execution_count": 140,
   "metadata": {},
   "outputs": [],
   "source": [
    "indices = pd.Series(df3.index, index=df3['name']).drop_duplicates()"
   ]
  },
  {
   "cell_type": "code",
   "execution_count": 141,
   "metadata": {},
   "outputs": [],
   "source": [
    "# Creating our Recommendation Function\n",
    "def give_rec_movies(title, sig=sig):\n",
    "    # Get the index corresponding to original_title\n",
    "    idx = indices[title]\n",
    "    # Get the pairwsie similarity scores \n",
    "    sig_scores = list(enumerate(sig[idx]))\n",
    "    # Sort the movies \n",
    "    sig_scores = sorted(sig_scores, key=lambda x: x[1], reverse=True)\n",
    "    # Scores of the 10 most similar movies\n",
    "    sig_scores = sig_scores[1:6]\n",
    "    # Movie indices\n",
    "    anime_indices = [i[0] for i in sig_scores]\n",
    "    # Top 10 most similar movies\n",
    "    return pd.DataFrame({'Anime name': df3['name'].iloc[anime_indices].values,'Rating': df3['rating'].iloc[anime_indices].values})"
   ]
  },
  {
   "cell_type": "code",
   "execution_count": 142,
   "metadata": {},
   "outputs": [
    {
     "data": {
      "text/html": [
       "<div>\n",
       "<style scoped>\n",
       "    .dataframe tbody tr th:only-of-type {\n",
       "        vertical-align: middle;\n",
       "    }\n",
       "\n",
       "    .dataframe tbody tr th {\n",
       "        vertical-align: top;\n",
       "    }\n",
       "\n",
       "    .dataframe thead th {\n",
       "        text-align: right;\n",
       "    }\n",
       "</style>\n",
       "<table border=\"1\" class=\"dataframe\">\n",
       "  <thead>\n",
       "    <tr style=\"text-align: right;\">\n",
       "      <th></th>\n",
       "      <th>Anime name</th>\n",
       "      <th>Rating</th>\n",
       "    </tr>\n",
       "  </thead>\n",
       "  <tbody>\n",
       "    <tr>\n",
       "      <th>0</th>\n",
       "      <td>Aura: Maryuuin Kouga Saigo no Tatakai</td>\n",
       "      <td>7.67</td>\n",
       "    </tr>\n",
       "    <tr>\n",
       "      <th>1</th>\n",
       "      <td>Kokoro ga Sakebitagatterunda.</td>\n",
       "      <td>8.32</td>\n",
       "    </tr>\n",
       "    <tr>\n",
       "      <th>2</th>\n",
       "      <td>Suki ni Naru Sono Shunkan wo.: Kokuhaku Jikkou...</td>\n",
       "      <td>NaN</td>\n",
       "    </tr>\n",
       "    <tr>\n",
       "      <th>3</th>\n",
       "      <td>Ace wo Nerae! (1979)</td>\n",
       "      <td>6.95</td>\n",
       "    </tr>\n",
       "    <tr>\n",
       "      <th>4</th>\n",
       "      <td>Harmonie</td>\n",
       "      <td>7.52</td>\n",
       "    </tr>\n",
       "  </tbody>\n",
       "</table>\n",
       "</div>"
      ],
      "text/plain": [
       "                                          Anime name  Rating\n",
       "0              Aura: Maryuuin Kouga Saigo no Tatakai    7.67\n",
       "1                      Kokoro ga Sakebitagatterunda.    8.32\n",
       "2  Suki ni Naru Sono Shunkan wo.: Kokuhaku Jikkou...     NaN\n",
       "3                               Ace wo Nerae! (1979)    6.95\n",
       "4                                           Harmonie    7.52"
      ]
     },
     "execution_count": 142,
     "metadata": {},
     "output_type": "execute_result"
    }
   ],
   "source": [
    "give_rec_movies('Kimi no Na wa.')"
   ]
  },
  {
   "cell_type": "markdown",
   "metadata": {},
   "source": [
    "# Recommendations for Special"
   ]
  },
  {
   "cell_type": "code",
   "execution_count": 143,
   "metadata": {},
   "outputs": [
    {
     "data": {
      "text/html": [
       "<div>\n",
       "<style scoped>\n",
       "    .dataframe tbody tr th:only-of-type {\n",
       "        vertical-align: middle;\n",
       "    }\n",
       "\n",
       "    .dataframe tbody tr th {\n",
       "        vertical-align: top;\n",
       "    }\n",
       "\n",
       "    .dataframe thead th {\n",
       "        text-align: right;\n",
       "    }\n",
       "</style>\n",
       "<table border=\"1\" class=\"dataframe\">\n",
       "  <thead>\n",
       "    <tr style=\"text-align: right;\">\n",
       "      <th></th>\n",
       "      <th>anime_id</th>\n",
       "      <th>name</th>\n",
       "      <th>genre</th>\n",
       "      <th>type</th>\n",
       "      <th>episodes</th>\n",
       "      <th>rating</th>\n",
       "      <th>members</th>\n",
       "    </tr>\n",
       "  </thead>\n",
       "  <tbody>\n",
       "    <tr>\n",
       "      <th>0</th>\n",
       "      <td>21329</td>\n",
       "      <td>Mushishi Special: Hihamukage</td>\n",
       "      <td>Adventure, Fantasy, Historical, Mystery, Seine...</td>\n",
       "      <td>Special</td>\n",
       "      <td>1</td>\n",
       "      <td>8.66</td>\n",
       "      <td>49036</td>\n",
       "    </tr>\n",
       "    <tr>\n",
       "      <th>1</th>\n",
       "      <td>24687</td>\n",
       "      <td>Mushishi Zoku Shou: Odoro no Michi</td>\n",
       "      <td>Adventure, Fantasy, Historical, Mystery, Seine...</td>\n",
       "      <td>Special</td>\n",
       "      <td>1</td>\n",
       "      <td>8.54</td>\n",
       "      <td>34011</td>\n",
       "    </tr>\n",
       "    <tr>\n",
       "      <th>2</th>\n",
       "      <td>10863</td>\n",
       "      <td>Steins;Gate: Oukoubakko no Poriomania</td>\n",
       "      <td>Sci-Fi, Thriller</td>\n",
       "      <td>Special</td>\n",
       "      <td>1</td>\n",
       "      <td>8.46</td>\n",
       "      <td>159548</td>\n",
       "    </tr>\n",
       "    <tr>\n",
       "      <th>3</th>\n",
       "      <td>264</td>\n",
       "      <td>Hajime no Ippo: Champion Road</td>\n",
       "      <td>Comedy, Shounen, Sports</td>\n",
       "      <td>Special</td>\n",
       "      <td>1</td>\n",
       "      <td>8.39</td>\n",
       "      <td>47840</td>\n",
       "    </tr>\n",
       "    <tr>\n",
       "      <th>4</th>\n",
       "      <td>6945</td>\n",
       "      <td>Gintama: Shiroyasha Koutan</td>\n",
       "      <td>Action, Comedy, Historical, Parody, Sci-Fi</td>\n",
       "      <td>Special</td>\n",
       "      <td>1</td>\n",
       "      <td>8.37</td>\n",
       "      <td>27213</td>\n",
       "    </tr>\n",
       "  </tbody>\n",
       "</table>\n",
       "</div>"
      ],
      "text/plain": [
       "   anime_id                                   name  \\\n",
       "0     21329           Mushishi Special: Hihamukage   \n",
       "1     24687     Mushishi Zoku Shou: Odoro no Michi   \n",
       "2     10863  Steins;Gate: Oukoubakko no Poriomania   \n",
       "3       264          Hajime no Ippo: Champion Road   \n",
       "4      6945             Gintama: Shiroyasha Koutan   \n",
       "\n",
       "                                               genre     type episodes  \\\n",
       "0  Adventure, Fantasy, Historical, Mystery, Seine...  Special        1   \n",
       "1  Adventure, Fantasy, Historical, Mystery, Seine...  Special        1   \n",
       "2                                   Sci-Fi, Thriller  Special        1   \n",
       "3                            Comedy, Shounen, Sports  Special        1   \n",
       "4         Action, Comedy, Historical, Parody, Sci-Fi  Special        1   \n",
       "\n",
       "   rating  members  \n",
       "0    8.66    49036  \n",
       "1    8.54    34011  \n",
       "2    8.46   159548  \n",
       "3    8.39    47840  \n",
       "4    8.37    27213  "
      ]
     },
     "execution_count": 143,
     "metadata": {},
     "output_type": "execute_result"
    }
   ],
   "source": [
    "df4.head()"
   ]
  },
  {
   "cell_type": "code",
   "execution_count": 144,
   "metadata": {},
   "outputs": [
    {
     "data": {
      "text/plain": [
       "(1676, 480)"
      ]
     },
     "execution_count": 144,
     "metadata": {},
     "output_type": "execute_result"
    }
   ],
   "source": [
    "# Filling NaNs with empty string\n",
    "df4['genre'] = df4['genre'].fillna('')\n",
    "genres_str = df4['genre'].str.split(',').astype(str)\n",
    "tfv_matrix = tfv.fit_transform(genres_str)\n",
    "tfv_matrix.shape"
   ]
  },
  {
   "cell_type": "code",
   "execution_count": 145,
   "metadata": {},
   "outputs": [],
   "source": [
    "from sklearn.metrics.pairwise import sigmoid_kernel\n",
    "\n",
    "# Compute the sigmoid kernel\n",
    "sig = sigmoid_kernel(tfv_matrix, tfv_matrix)"
   ]
  },
  {
   "cell_type": "code",
   "execution_count": 146,
   "metadata": {},
   "outputs": [],
   "source": [
    "indices = pd.Series(df4.index, index=df4['name']).drop_duplicates()"
   ]
  },
  {
   "cell_type": "code",
   "execution_count": 147,
   "metadata": {},
   "outputs": [],
   "source": [
    "# Creating our Recommendation Function\n",
    "def give_rec_special(title, sig=sig):\n",
    "    # Get the index corresponding to original_title\n",
    "    idx = indices[title]\n",
    "    # Get the pairwsie similarity scores \n",
    "    sig_scores = list(enumerate(sig[idx]))\n",
    "    # Sort the movies \n",
    "    sig_scores = sorted(sig_scores, key=lambda x: x[1], reverse=True)\n",
    "    # Scores of the 10 most similar movies\n",
    "    sig_scores = sig_scores[1:6]\n",
    "    # Movie indices\n",
    "    anime_indices = [i[0] for i in sig_scores]\n",
    "    # Top 10 most similar movies\n",
    "    return pd.DataFrame({'Anime name': df4['name'].iloc[anime_indices].values,'Rating': df4['rating'].iloc[anime_indices].values})"
   ]
  },
  {
   "cell_type": "code",
   "execution_count": 148,
   "metadata": {},
   "outputs": [
    {
     "data": {
      "text/html": [
       "<div>\n",
       "<style scoped>\n",
       "    .dataframe tbody tr th:only-of-type {\n",
       "        vertical-align: middle;\n",
       "    }\n",
       "\n",
       "    .dataframe tbody tr th {\n",
       "        vertical-align: top;\n",
       "    }\n",
       "\n",
       "    .dataframe thead th {\n",
       "        text-align: right;\n",
       "    }\n",
       "</style>\n",
       "<table border=\"1\" class=\"dataframe\">\n",
       "  <thead>\n",
       "    <tr style=\"text-align: right;\">\n",
       "      <th></th>\n",
       "      <th>Anime name</th>\n",
       "      <th>Rating</th>\n",
       "    </tr>\n",
       "  </thead>\n",
       "  <tbody>\n",
       "    <tr>\n",
       "      <th>0</th>\n",
       "      <td>Mushishi Zoku Shou: Odoro no Michi</td>\n",
       "      <td>8.54</td>\n",
       "    </tr>\n",
       "    <tr>\n",
       "      <th>1</th>\n",
       "      <td>Silk Road Shounen Yuuto: Toki wo Kakeru Shoune...</td>\n",
       "      <td>5.75</td>\n",
       "    </tr>\n",
       "    <tr>\n",
       "      <th>2</th>\n",
       "      <td>Mokke Specials</td>\n",
       "      <td>7.09</td>\n",
       "    </tr>\n",
       "    <tr>\n",
       "      <th>3</th>\n",
       "      <td>Kyoukai no Kanata: Mini Theater</td>\n",
       "      <td>6.82</td>\n",
       "    </tr>\n",
       "    <tr>\n",
       "      <th>4</th>\n",
       "      <td>Baccano! Specials</td>\n",
       "      <td>8.29</td>\n",
       "    </tr>\n",
       "  </tbody>\n",
       "</table>\n",
       "</div>"
      ],
      "text/plain": [
       "                                          Anime name  Rating\n",
       "0                 Mushishi Zoku Shou: Odoro no Michi    8.54\n",
       "1  Silk Road Shounen Yuuto: Toki wo Kakeru Shoune...    5.75\n",
       "2                                     Mokke Specials    7.09\n",
       "3                    Kyoukai no Kanata: Mini Theater    6.82\n",
       "4                                  Baccano! Specials    8.29"
      ]
     },
     "execution_count": 148,
     "metadata": {},
     "output_type": "execute_result"
    }
   ],
   "source": [
    "give_rec_special('Mushishi Special: Hihamukage')"
   ]
  },
  {
   "cell_type": "markdown",
   "metadata": {},
   "source": [
    "# Recommendations for ONA"
   ]
  },
  {
   "cell_type": "code",
   "execution_count": 149,
   "metadata": {},
   "outputs": [
    {
     "data": {
      "text/html": [
       "<div>\n",
       "<style scoped>\n",
       "    .dataframe tbody tr th:only-of-type {\n",
       "        vertical-align: middle;\n",
       "    }\n",
       "\n",
       "    .dataframe tbody tr th {\n",
       "        vertical-align: top;\n",
       "    }\n",
       "\n",
       "    .dataframe thead th {\n",
       "        text-align: right;\n",
       "    }\n",
       "</style>\n",
       "<table border=\"1\" class=\"dataframe\">\n",
       "  <thead>\n",
       "    <tr style=\"text-align: right;\">\n",
       "      <th></th>\n",
       "      <th>anime_id</th>\n",
       "      <th>name</th>\n",
       "      <th>genre</th>\n",
       "      <th>type</th>\n",
       "      <th>episodes</th>\n",
       "      <th>rating</th>\n",
       "      <th>members</th>\n",
       "    </tr>\n",
       "  </thead>\n",
       "  <tbody>\n",
       "    <tr>\n",
       "      <th>0</th>\n",
       "      <td>3167</td>\n",
       "      <td>Eve no Jikan</td>\n",
       "      <td>Sci-Fi, Slice of Life</td>\n",
       "      <td>ONA</td>\n",
       "      <td>6</td>\n",
       "      <td>8.26</td>\n",
       "      <td>99074</td>\n",
       "    </tr>\n",
       "    <tr>\n",
       "      <th>1</th>\n",
       "      <td>6505</td>\n",
       "      <td>There She Is!!</td>\n",
       "      <td>Comedy, Romance</td>\n",
       "      <td>ONA</td>\n",
       "      <td>5</td>\n",
       "      <td>8.11</td>\n",
       "      <td>13935</td>\n",
       "    </tr>\n",
       "    <tr>\n",
       "      <th>2</th>\n",
       "      <td>32613</td>\n",
       "      <td>Elsword: El Lady</td>\n",
       "      <td>Action, Fantasy</td>\n",
       "      <td>ONA</td>\n",
       "      <td>12</td>\n",
       "      <td>8.11</td>\n",
       "      <td>3846</td>\n",
       "    </tr>\n",
       "    <tr>\n",
       "      <th>3</th>\n",
       "      <td>31973</td>\n",
       "      <td>Mobile Suit Gundam Thunderbolt</td>\n",
       "      <td>Action, Drama, Mecha, Military, Sci-Fi, Space</td>\n",
       "      <td>ONA</td>\n",
       "      <td>4</td>\n",
       "      <td>8.00</td>\n",
       "      <td>14419</td>\n",
       "    </tr>\n",
       "    <tr>\n",
       "      <th>4</th>\n",
       "      <td>15195</td>\n",
       "      <td>Hetalia: The Beautiful World</td>\n",
       "      <td>Comedy, Historical, Parody</td>\n",
       "      <td>ONA</td>\n",
       "      <td>20</td>\n",
       "      <td>7.98</td>\n",
       "      <td>34960</td>\n",
       "    </tr>\n",
       "  </tbody>\n",
       "</table>\n",
       "</div>"
      ],
      "text/plain": [
       "   anime_id                            name  \\\n",
       "0      3167                    Eve no Jikan   \n",
       "1      6505                  There She Is!!   \n",
       "2     32613                Elsword: El Lady   \n",
       "3     31973  Mobile Suit Gundam Thunderbolt   \n",
       "4     15195    Hetalia: The Beautiful World   \n",
       "\n",
       "                                           genre type episodes  rating  \\\n",
       "0                          Sci-Fi, Slice of Life  ONA        6    8.26   \n",
       "1                                Comedy, Romance  ONA        5    8.11   \n",
       "2                                Action, Fantasy  ONA       12    8.11   \n",
       "3  Action, Drama, Mecha, Military, Sci-Fi, Space  ONA        4    8.00   \n",
       "4                     Comedy, Historical, Parody  ONA       20    7.98   \n",
       "\n",
       "   members  \n",
       "0    99074  \n",
       "1    13935  \n",
       "2     3846  \n",
       "3    14419  \n",
       "4    34960  "
      ]
     },
     "execution_count": 149,
     "metadata": {},
     "output_type": "execute_result"
    }
   ],
   "source": [
    "df5.head()"
   ]
  },
  {
   "cell_type": "code",
   "execution_count": 150,
   "metadata": {},
   "outputs": [
    {
     "data": {
      "text/plain": [
       "(659, 158)"
      ]
     },
     "execution_count": 150,
     "metadata": {},
     "output_type": "execute_result"
    }
   ],
   "source": [
    "# Filling NaNs with empty string\n",
    "df5['genre'] = df5['genre'].fillna('')\n",
    "genres_str = df5['genre'].str.split(',').astype(str)\n",
    "tfv_matrix = tfv.fit_transform(genres_str)\n",
    "tfv_matrix.shape"
   ]
  },
  {
   "cell_type": "code",
   "execution_count": 151,
   "metadata": {},
   "outputs": [],
   "source": [
    "from sklearn.metrics.pairwise import sigmoid_kernel\n",
    "\n",
    "# Compute the sigmoid kernel\n",
    "sig = sigmoid_kernel(tfv_matrix, tfv_matrix)"
   ]
  },
  {
   "cell_type": "code",
   "execution_count": 152,
   "metadata": {},
   "outputs": [],
   "source": [
    "indices = pd.Series(df5.index, index=df5['name']).drop_duplicates()"
   ]
  },
  {
   "cell_type": "code",
   "execution_count": 153,
   "metadata": {},
   "outputs": [],
   "source": [
    "# Creating our Recommendation Function\n",
    "def give_rec_ona(title, sig=sig):\n",
    "    # Get the index corresponding to original_title\n",
    "    idx = indices[title]\n",
    "    # Get the pairwsie similarity scores \n",
    "    sig_scores = list(enumerate(sig[idx]))\n",
    "    # Sort the movies \n",
    "    sig_scores = sorted(sig_scores, key=lambda x: x[1], reverse=True)\n",
    "    # Scores of the 10 most similar movies\n",
    "    sig_scores = sig_scores[1:6]\n",
    "    # Movie indices\n",
    "    anime_indices = [i[0] for i in sig_scores]\n",
    "    # Top 10 most similar movies\n",
    "    return pd.DataFrame({'Anime name': df5['name'].iloc[anime_indices].values,'Rating': df5['rating'].iloc[anime_indices].values})"
   ]
  },
  {
   "cell_type": "code",
   "execution_count": 154,
   "metadata": {},
   "outputs": [
    {
     "data": {
      "text/html": [
       "<div>\n",
       "<style scoped>\n",
       "    .dataframe tbody tr th:only-of-type {\n",
       "        vertical-align: middle;\n",
       "    }\n",
       "\n",
       "    .dataframe tbody tr th {\n",
       "        vertical-align: top;\n",
       "    }\n",
       "\n",
       "    .dataframe thead th {\n",
       "        text-align: right;\n",
       "    }\n",
       "</style>\n",
       "<table border=\"1\" class=\"dataframe\">\n",
       "  <thead>\n",
       "    <tr style=\"text-align: right;\">\n",
       "      <th></th>\n",
       "      <th>Anime name</th>\n",
       "      <th>Rating</th>\n",
       "    </tr>\n",
       "  </thead>\n",
       "  <tbody>\n",
       "    <tr>\n",
       "      <th>0</th>\n",
       "      <td>Mou Hitotsu no Mirai wo.</td>\n",
       "      <td>6.19</td>\n",
       "    </tr>\n",
       "    <tr>\n",
       "      <th>1</th>\n",
       "      <td>Honey Tokyo</td>\n",
       "      <td>5.88</td>\n",
       "    </tr>\n",
       "    <tr>\n",
       "      <th>2</th>\n",
       "      <td>Ima no Watashi ni Dekiru Koto...</td>\n",
       "      <td>5.40</td>\n",
       "    </tr>\n",
       "    <tr>\n",
       "      <th>3</th>\n",
       "      <td>Nanocore</td>\n",
       "      <td>6.17</td>\n",
       "    </tr>\n",
       "    <tr>\n",
       "      <th>4</th>\n",
       "      <td>Shitamachi Alien PapiPipiPupi</td>\n",
       "      <td>7.00</td>\n",
       "    </tr>\n",
       "  </tbody>\n",
       "</table>\n",
       "</div>"
      ],
      "text/plain": [
       "                         Anime name  Rating\n",
       "0          Mou Hitotsu no Mirai wo.    6.19\n",
       "1                       Honey Tokyo    5.88\n",
       "2  Ima no Watashi ni Dekiru Koto...    5.40\n",
       "3                          Nanocore    6.17\n",
       "4     Shitamachi Alien PapiPipiPupi    7.00"
      ]
     },
     "execution_count": 154,
     "metadata": {},
     "output_type": "execute_result"
    }
   ],
   "source": [
    "give_rec_ona('Eve no Jikan')"
   ]
  },
  {
   "cell_type": "markdown",
   "metadata": {},
   "source": [
    "# Recommendations for Music"
   ]
  },
  {
   "cell_type": "code",
   "execution_count": 155,
   "metadata": {},
   "outputs": [
    {
     "data": {
      "text/html": [
       "<div>\n",
       "<style scoped>\n",
       "    .dataframe tbody tr th:only-of-type {\n",
       "        vertical-align: middle;\n",
       "    }\n",
       "\n",
       "    .dataframe tbody tr th {\n",
       "        vertical-align: top;\n",
       "    }\n",
       "\n",
       "    .dataframe thead th {\n",
       "        text-align: right;\n",
       "    }\n",
       "</style>\n",
       "<table border=\"1\" class=\"dataframe\">\n",
       "  <thead>\n",
       "    <tr style=\"text-align: right;\">\n",
       "      <th></th>\n",
       "      <th>anime_id</th>\n",
       "      <th>name</th>\n",
       "      <th>genre</th>\n",
       "      <th>type</th>\n",
       "      <th>episodes</th>\n",
       "      <th>rating</th>\n",
       "      <th>members</th>\n",
       "    </tr>\n",
       "  </thead>\n",
       "  <tbody>\n",
       "    <tr>\n",
       "      <th>0</th>\n",
       "      <td>34240</td>\n",
       "      <td>Shelter</td>\n",
       "      <td>Music, Sci-Fi</td>\n",
       "      <td>Music</td>\n",
       "      <td>1</td>\n",
       "      <td>8.38</td>\n",
       "      <td>71136</td>\n",
       "    </tr>\n",
       "    <tr>\n",
       "      <th>1</th>\n",
       "      <td>731</td>\n",
       "      <td>Interstella5555: The 5tory of The 5ecret 5tar ...</td>\n",
       "      <td>Adventure, Drama, Music, Sci-Fi</td>\n",
       "      <td>Music</td>\n",
       "      <td>1</td>\n",
       "      <td>8.17</td>\n",
       "      <td>31464</td>\n",
       "    </tr>\n",
       "    <tr>\n",
       "      <th>2</th>\n",
       "      <td>17949</td>\n",
       "      <td>The Everlasting Guilty Crown</td>\n",
       "      <td>Music</td>\n",
       "      <td>Music</td>\n",
       "      <td>1</td>\n",
       "      <td>8.00</td>\n",
       "      <td>11663</td>\n",
       "    </tr>\n",
       "    <tr>\n",
       "      <th>3</th>\n",
       "      <td>2768</td>\n",
       "      <td>CLAMP in Wonderland 2</td>\n",
       "      <td>Action, Comedy, Drama, Fantasy, Magic, Music, ...</td>\n",
       "      <td>Music</td>\n",
       "      <td>1</td>\n",
       "      <td>7.64</td>\n",
       "      <td>13985</td>\n",
       "    </tr>\n",
       "    <tr>\n",
       "      <th>4</th>\n",
       "      <td>9930</td>\n",
       "      <td>Snow Halation</td>\n",
       "      <td>Music</td>\n",
       "      <td>Music</td>\n",
       "      <td>1</td>\n",
       "      <td>7.61</td>\n",
       "      <td>8731</td>\n",
       "    </tr>\n",
       "  </tbody>\n",
       "</table>\n",
       "</div>"
      ],
      "text/plain": [
       "   anime_id                                               name  \\\n",
       "0     34240                                            Shelter   \n",
       "1       731  Interstella5555: The 5tory of The 5ecret 5tar ...   \n",
       "2     17949                       The Everlasting Guilty Crown   \n",
       "3      2768                              CLAMP in Wonderland 2   \n",
       "4      9930                                      Snow Halation   \n",
       "\n",
       "                                               genre   type episodes  rating  \\\n",
       "0                                      Music, Sci-Fi  Music        1    8.38   \n",
       "1                    Adventure, Drama, Music, Sci-Fi  Music        1    8.17   \n",
       "2                                              Music  Music        1    8.00   \n",
       "3  Action, Comedy, Drama, Fantasy, Magic, Music, ...  Music        1    7.64   \n",
       "4                                              Music  Music        1    7.61   \n",
       "\n",
       "   members  \n",
       "0    71136  \n",
       "1    31464  \n",
       "2    11663  \n",
       "3    13985  \n",
       "4     8731  "
      ]
     },
     "execution_count": 155,
     "metadata": {},
     "output_type": "execute_result"
    }
   ],
   "source": [
    "df6.head()"
   ]
  },
  {
   "cell_type": "code",
   "execution_count": 156,
   "metadata": {},
   "outputs": [
    {
     "data": {
      "text/plain": [
       "(488, 73)"
      ]
     },
     "execution_count": 156,
     "metadata": {},
     "output_type": "execute_result"
    }
   ],
   "source": [
    "# Filling NaNs with empty string\n",
    "df6['genre'] = df6['genre'].fillna('')\n",
    "genres_str = df6['genre'].str.split(',').astype(str)\n",
    "tfv_matrix = tfv.fit_transform(genres_str)\n",
    "tfv_matrix.shape"
   ]
  },
  {
   "cell_type": "code",
   "execution_count": 157,
   "metadata": {},
   "outputs": [],
   "source": [
    "from sklearn.metrics.pairwise import sigmoid_kernel\n",
    "\n",
    "# Compute the sigmoid kernel\n",
    "sig = sigmoid_kernel(tfv_matrix, tfv_matrix)"
   ]
  },
  {
   "cell_type": "code",
   "execution_count": 158,
   "metadata": {},
   "outputs": [],
   "source": [
    "indices = pd.Series(df6.index, index=df6['name']).drop_duplicates()"
   ]
  },
  {
   "cell_type": "code",
   "execution_count": 159,
   "metadata": {},
   "outputs": [],
   "source": [
    "# Creating our Recommendation Function\n",
    "def give_rec_music(title, sig=sig):\n",
    "    # Get the index corresponding to original_title\n",
    "    idx = indices[title]\n",
    "    # Get the pairwsie similarity scores \n",
    "    sig_scores = list(enumerate(sig[idx]))\n",
    "    # Sort the movies \n",
    "    sig_scores = sorted(sig_scores, key=lambda x: x[1], reverse=True)\n",
    "    # Scores of the 10 most similar movies\n",
    "    sig_scores = sig_scores[1:6]\n",
    "    # Movie indices\n",
    "    anime_indices = [i[0] for i in sig_scores]\n",
    "    # Top 10 most similar movies\n",
    "    return pd.DataFrame({'Anime name': df6['name'].iloc[anime_indices].values,'Rating': df6['rating'].iloc[anime_indices].values})"
   ]
  },
  {
   "cell_type": "code",
   "execution_count": 160,
   "metadata": {},
   "outputs": [
    {
     "data": {
      "text/html": [
       "<div>\n",
       "<style scoped>\n",
       "    .dataframe tbody tr th:only-of-type {\n",
       "        vertical-align: middle;\n",
       "    }\n",
       "\n",
       "    .dataframe tbody tr th {\n",
       "        vertical-align: top;\n",
       "    }\n",
       "\n",
       "    .dataframe thead th {\n",
       "        text-align: right;\n",
       "    }\n",
       "</style>\n",
       "<table border=\"1\" class=\"dataframe\">\n",
       "  <thead>\n",
       "    <tr style=\"text-align: right;\">\n",
       "      <th></th>\n",
       "      <th>Anime name</th>\n",
       "      <th>Rating</th>\n",
       "    </tr>\n",
       "  </thead>\n",
       "  <tbody>\n",
       "    <tr>\n",
       "      <th>0</th>\n",
       "      <td>Soratobu Toshi Keikaku</td>\n",
       "      <td>6.18</td>\n",
       "    </tr>\n",
       "    <tr>\n",
       "      <th>1</th>\n",
       "      <td>Space Station No.9</td>\n",
       "      <td>5.99</td>\n",
       "    </tr>\n",
       "    <tr>\n",
       "      <th>2</th>\n",
       "      <td>Portable Kuukou</td>\n",
       "      <td>5.85</td>\n",
       "    </tr>\n",
       "    <tr>\n",
       "      <th>3</th>\n",
       "      <td>Sign</td>\n",
       "      <td>4.91</td>\n",
       "    </tr>\n",
       "    <tr>\n",
       "      <th>4</th>\n",
       "      <td>Shinsei Kamattechan</td>\n",
       "      <td>4.85</td>\n",
       "    </tr>\n",
       "  </tbody>\n",
       "</table>\n",
       "</div>"
      ],
      "text/plain": [
       "               Anime name  Rating\n",
       "0  Soratobu Toshi Keikaku    6.18\n",
       "1      Space Station No.9    5.99\n",
       "2         Portable Kuukou    5.85\n",
       "3                    Sign    4.91\n",
       "4     Shinsei Kamattechan    4.85"
      ]
     },
     "execution_count": 160,
     "metadata": {},
     "output_type": "execute_result"
    }
   ],
   "source": [
    "give_rec_music('Shelter')"
   ]
  },
  {
   "cell_type": "markdown",
   "metadata": {},
   "source": [
    "# =============================================================="
   ]
  },
  {
   "cell_type": "markdown",
   "metadata": {},
   "source": [
    "# Implementing Collaborative Filtering With KNN"
   ]
  },
  {
   "cell_type": "markdown",
   "metadata": {},
   "source": [
    "# =============================================================="
   ]
  },
  {
   "cell_type": "code",
   "execution_count": 167,
   "metadata": {},
   "outputs": [
    {
     "data": {
      "image/png": "[encoded data removed]",
      "text/plain": [
       "<Figure size 1080x288 with 1 Axes>"
      ]
     },
     "metadata": {},
     "output_type": "display_data"
    }
   ],
   "source": [
    "plt.figure(figsize=(15,4))\n",
    "graph = df_rating['rating'].value_counts(sort=True).plot(kind='bar')\n",
    "plt.title(\"Rating Distribution\",fontsize=15,fontweight='bold')\n",
    "plt.xlabel('Ratings',fontsize=12)\n",
    "plt.ylabel('Count',fontsize=12)\n",
    "for p in graph.patches:\n",
    "    graph.annotate('{:.2f}'.format(p.get_height()), (p.get_x()+0.3, p.get_height()),ha='center', va='bottom',color= 'black',fontsize=10,fontweight='bold')"
   ]
  },
  {
   "cell_type": "markdown",
   "metadata": {},
   "source": [
    "To ensure statistical significance, users with less than 200 rating and movies with less than 100 ratings are being excluded from the dataset"
   ]
  },
  {
   "cell_type": "code",
   "execution_count": 170,
   "metadata": {},
   "outputs": [],
   "source": [
    "count1 = df_rating['user_id'].value_counts()\n",
    "df_rating = df_rating[df_rating['user_id'].isin(count1[count1>=200].index)]\n",
    "count2 = df_rating['rating'].value_counts()\n",
    "df_rating = df_rating[df_rating['rating'].isin(count2[count2>=100].index)]"
   ]
  },
  {
   "cell_type": "code",
   "execution_count": 175,
   "metadata": {},
   "outputs": [
    {
     "data": {
      "text/html": [
       "<div>\n",
       "<style scoped>\n",
       "    .dataframe tbody tr th:only-of-type {\n",
       "        vertical-align: middle;\n",
       "    }\n",
       "\n",
       "    .dataframe tbody tr th {\n",
       "        vertical-align: top;\n",
       "    }\n",
       "\n",
       "    .dataframe thead th {\n",
       "        text-align: right;\n",
       "    }\n",
       "</style>\n",
       "<table border=\"1\" class=\"dataframe\">\n",
       "  <thead>\n",
       "    <tr style=\"text-align: right;\">\n",
       "      <th></th>\n",
       "      <th>user_id</th>\n",
       "      <th>anime_id</th>\n",
       "      <th>rating_x</th>\n",
       "      <th>name</th>\n",
       "    </tr>\n",
       "  </thead>\n",
       "  <tbody>\n",
       "    <tr>\n",
       "      <th>0</th>\n",
       "      <td>5</td>\n",
       "      <td>6</td>\n",
       "      <td>8.0</td>\n",
       "      <td>Trigun</td>\n",
       "    </tr>\n",
       "    <tr>\n",
       "      <th>1</th>\n",
       "      <td>17</td>\n",
       "      <td>6</td>\n",
       "      <td>7.0</td>\n",
       "      <td>Trigun</td>\n",
       "    </tr>\n",
       "    <tr>\n",
       "      <th>2</th>\n",
       "      <td>129</td>\n",
       "      <td>6</td>\n",
       "      <td>9.0</td>\n",
       "      <td>Trigun</td>\n",
       "    </tr>\n",
       "    <tr>\n",
       "      <th>3</th>\n",
       "      <td>160</td>\n",
       "      <td>6</td>\n",
       "      <td>7.0</td>\n",
       "      <td>Trigun</td>\n",
       "    </tr>\n",
       "    <tr>\n",
       "      <th>4</th>\n",
       "      <td>226</td>\n",
       "      <td>6</td>\n",
       "      <td>8.0</td>\n",
       "      <td>Trigun</td>\n",
       "    </tr>\n",
       "  </tbody>\n",
       "</table>\n",
       "</div>"
      ],
      "text/plain": [
       "   user_id  anime_id  rating_x    name\n",
       "0        5         6       8.0  Trigun\n",
       "1       17         6       7.0  Trigun\n",
       "2      129         6       9.0  Trigun\n",
       "3      160         6       7.0  Trigun\n",
       "4      226         6       8.0  Trigun"
      ]
     },
     "execution_count": 175,
     "metadata": {},
     "output_type": "execute_result"
    }
   ],
   "source": [
    "combine_rating = pd.merge(df_rating,df_anime,on='anime_id')\n",
    "combine_rating.drop(columns=['genre','type','episodes','rating_y','members'],axis=1,inplace=True)\n",
    "combine_rating.head()"
   ]
  },
  {
   "cell_type": "code",
   "execution_count": 178,
   "metadata": {},
   "outputs": [
    {
     "data": {
      "text/html": [
       "<div>\n",
       "<style scoped>\n",
       "    .dataframe tbody tr th:only-of-type {\n",
       "        vertical-align: middle;\n",
       "    }\n",
       "\n",
       "    .dataframe tbody tr th {\n",
       "        vertical-align: top;\n",
       "    }\n",
       "\n",
       "    .dataframe thead th {\n",
       "        text-align: right;\n",
       "    }\n",
       "</style>\n",
       "<table border=\"1\" class=\"dataframe\">\n",
       "  <thead>\n",
       "    <tr style=\"text-align: right;\">\n",
       "      <th></th>\n",
       "      <th>name</th>\n",
       "      <th>totalratingcount</th>\n",
       "    </tr>\n",
       "  </thead>\n",
       "  <tbody>\n",
       "    <tr>\n",
       "      <th>0</th>\n",
       "      <td>&amp;quot;0&amp;quot;</td>\n",
       "      <td>14</td>\n",
       "    </tr>\n",
       "    <tr>\n",
       "      <th>1</th>\n",
       "      <td>&amp;quot;Bungaku Shoujo&amp;quot; Kyou no Oyatsu: Hat...</td>\n",
       "      <td>515</td>\n",
       "    </tr>\n",
       "    <tr>\n",
       "      <th>2</th>\n",
       "      <td>&amp;quot;Bungaku Shoujo&amp;quot; Memoire</td>\n",
       "      <td>540</td>\n",
       "    </tr>\n",
       "    <tr>\n",
       "      <th>3</th>\n",
       "      <td>&amp;quot;Bungaku Shoujo&amp;quot; Movie</td>\n",
       "      <td>978</td>\n",
       "    </tr>\n",
       "    <tr>\n",
       "      <th>4</th>\n",
       "      <td>&amp;quot;Eiji&amp;quot;</td>\n",
       "      <td>12</td>\n",
       "    </tr>\n",
       "  </tbody>\n",
       "</table>\n",
       "</div>"
      ],
      "text/plain": [
       "                                                name  totalratingcount\n",
       "0                                      &quot;0&quot;                14\n",
       "1  &quot;Bungaku Shoujo&quot; Kyou no Oyatsu: Hat...               515\n",
       "2                 &quot;Bungaku Shoujo&quot; Memoire               540\n",
       "3                   &quot;Bungaku Shoujo&quot; Movie               978\n",
       "4                                   &quot;Eiji&quot;                12"
      ]
     },
     "execution_count": 178,
     "metadata": {},
     "output_type": "execute_result"
    }
   ],
   "source": [
    "combine_rating = combine_rating.dropna(axis=0,subset=['name'])\n",
    "anime_rating_count = (combine_rating.groupby(by=['name'])['rating_x'].count().reset_index().rename(columns={'rating_x':'totalratingcount'})[['name','totalratingcount']])\n",
    "anime_rating_count.head()"
   ]
  },
  {
   "cell_type": "markdown",
   "metadata": {},
   "source": [
    "We will combine the rating data with the anime_rating_count data, this gives us exactly what we need to find out which movies are popular and filter out lesser known books. "
   ]
  },
  {
   "cell_type": "code",
   "execution_count": 180,
   "metadata": {},
   "outputs": [
    {
     "data": {
      "text/html": [
       "<div>\n",
       "<style scoped>\n",
       "    .dataframe tbody tr th:only-of-type {\n",
       "        vertical-align: middle;\n",
       "    }\n",
       "\n",
       "    .dataframe tbody tr th {\n",
       "        vertical-align: top;\n",
       "    }\n",
       "\n",
       "    .dataframe thead th {\n",
       "        text-align: right;\n",
       "    }\n",
       "</style>\n",
       "<table border=\"1\" class=\"dataframe\">\n",
       "  <thead>\n",
       "    <tr style=\"text-align: right;\">\n",
       "      <th></th>\n",
       "      <th>user_id</th>\n",
       "      <th>anime_id</th>\n",
       "      <th>rating_x</th>\n",
       "      <th>name</th>\n",
       "      <th>totalratingcount</th>\n",
       "    </tr>\n",
       "  </thead>\n",
       "  <tbody>\n",
       "    <tr>\n",
       "      <th>0</th>\n",
       "      <td>5</td>\n",
       "      <td>6</td>\n",
       "      <td>8.0</td>\n",
       "      <td>Trigun</td>\n",
       "      <td>3497</td>\n",
       "    </tr>\n",
       "    <tr>\n",
       "      <th>1</th>\n",
       "      <td>17</td>\n",
       "      <td>6</td>\n",
       "      <td>7.0</td>\n",
       "      <td>Trigun</td>\n",
       "      <td>3497</td>\n",
       "    </tr>\n",
       "    <tr>\n",
       "      <th>2</th>\n",
       "      <td>129</td>\n",
       "      <td>6</td>\n",
       "      <td>9.0</td>\n",
       "      <td>Trigun</td>\n",
       "      <td>3497</td>\n",
       "    </tr>\n",
       "    <tr>\n",
       "      <th>3</th>\n",
       "      <td>160</td>\n",
       "      <td>6</td>\n",
       "      <td>7.0</td>\n",
       "      <td>Trigun</td>\n",
       "      <td>3497</td>\n",
       "    </tr>\n",
       "    <tr>\n",
       "      <th>4</th>\n",
       "      <td>226</td>\n",
       "      <td>6</td>\n",
       "      <td>8.0</td>\n",
       "      <td>Trigun</td>\n",
       "      <td>3497</td>\n",
       "    </tr>\n",
       "  </tbody>\n",
       "</table>\n",
       "</div>"
      ],
      "text/plain": [
       "   user_id  anime_id  rating_x    name  totalratingcount\n",
       "0        5         6       8.0  Trigun              3497\n",
       "1       17         6       7.0  Trigun              3497\n",
       "2      129         6       9.0  Trigun              3497\n",
       "3      160         6       7.0  Trigun              3497\n",
       "4      226         6       8.0  Trigun              3497"
      ]
     },
     "execution_count": 180,
     "metadata": {},
     "output_type": "execute_result"
    }
   ],
   "source": [
    "df_final = combine_rating.merge(anime_rating_count,left_on='name',right_on='name',how='left')\n",
    "df_final.head()"
   ]
  },
  {
   "cell_type": "code",
   "execution_count": 184,
   "metadata": {},
   "outputs": [
    {
     "data": {
      "text/html": [
       "<div>\n",
       "<style scoped>\n",
       "    .dataframe tbody tr th:only-of-type {\n",
       "        vertical-align: middle;\n",
       "    }\n",
       "\n",
       "    .dataframe tbody tr th {\n",
       "        vertical-align: top;\n",
       "    }\n",
       "\n",
       "    .dataframe thead th {\n",
       "        text-align: right;\n",
       "    }\n",
       "</style>\n",
       "<table border=\"1\" class=\"dataframe\">\n",
       "  <thead>\n",
       "    <tr style=\"text-align: right;\">\n",
       "      <th></th>\n",
       "      <th>user_id</th>\n",
       "      <th>anime_id</th>\n",
       "      <th>rating_x</th>\n",
       "      <th>name</th>\n",
       "      <th>totalratingcount</th>\n",
       "    </tr>\n",
       "  </thead>\n",
       "  <tbody>\n",
       "    <tr>\n",
       "      <th>0</th>\n",
       "      <td>5</td>\n",
       "      <td>6</td>\n",
       "      <td>8.0</td>\n",
       "      <td>Trigun</td>\n",
       "      <td>3497</td>\n",
       "    </tr>\n",
       "    <tr>\n",
       "      <th>1</th>\n",
       "      <td>17</td>\n",
       "      <td>6</td>\n",
       "      <td>7.0</td>\n",
       "      <td>Trigun</td>\n",
       "      <td>3497</td>\n",
       "    </tr>\n",
       "    <tr>\n",
       "      <th>2</th>\n",
       "      <td>129</td>\n",
       "      <td>6</td>\n",
       "      <td>9.0</td>\n",
       "      <td>Trigun</td>\n",
       "      <td>3497</td>\n",
       "    </tr>\n",
       "    <tr>\n",
       "      <th>3</th>\n",
       "      <td>160</td>\n",
       "      <td>6</td>\n",
       "      <td>7.0</td>\n",
       "      <td>Trigun</td>\n",
       "      <td>3497</td>\n",
       "    </tr>\n",
       "    <tr>\n",
       "      <th>4</th>\n",
       "      <td>226</td>\n",
       "      <td>6</td>\n",
       "      <td>8.0</td>\n",
       "      <td>Trigun</td>\n",
       "      <td>3497</td>\n",
       "    </tr>\n",
       "  </tbody>\n",
       "</table>\n",
       "</div>"
      ],
      "text/plain": [
       "   user_id  anime_id  rating_x    name  totalratingcount\n",
       "0        5         6       8.0  Trigun              3497\n",
       "1       17         6       7.0  Trigun              3497\n",
       "2      129         6       9.0  Trigun              3497\n",
       "3      160         6       7.0  Trigun              3497\n",
       "4      226         6       8.0  Trigun              3497"
      ]
     },
     "execution_count": 184,
     "metadata": {},
     "output_type": "execute_result"
    }
   ],
   "source": [
    "thresh = 50\n",
    "df_final = df_final.query('totalratingcount >= 50')\n",
    "df_final.head()"
   ]
  },
  {
   "cell_type": "code",
   "execution_count": 186,
   "metadata": {},
   "outputs": [
    {
     "data": {
      "text/plain": [
       "(3291733, 5)"
      ]
     },
     "execution_count": 186,
     "metadata": {},
     "output_type": "execute_result"
    }
   ],
   "source": [
    "df_final.shape"
   ]
  },
  {
   "cell_type": "code",
   "execution_count": 194,
   "metadata": {},
   "outputs": [],
   "source": [
    "from scipy.sparse import csr_matrix\n",
    "df_final = df_final.drop_duplicates(['user_id','name'])\n",
    "df_final_pivot = df_final.pivot(index='name',columns='user_id',values='rating_x').fillna(0)\n",
    "df_final_matrix = csr_matrix(df_final_pivot.values)"
   ]
  },
  {
   "cell_type": "code",
   "execution_count": 196,
   "metadata": {},
   "outputs": [
    {
     "data": {
      "text/plain": [
       "NearestNeighbors(algorithm='brute', leaf_size=30, metric='cosine',\n",
       "         metric_params=None, n_jobs=1, n_neighbors=5, p=2, radius=1.0)"
      ]
     },
     "execution_count": 196,
     "metadata": {},
     "output_type": "execute_result"
    }
   ],
   "source": [
    "from sklearn.neighbors import NearestNeighbors\n",
    "model_knn = NearestNeighbors(metric='cosine',algorithm='brute')\n",
    "model_knn.fit(df_final_matrix)"
   ]
  },
  {
   "cell_type": "code",
   "execution_count": 199,
   "metadata": {},
   "outputs": [
    {
     "name": "stdout",
     "output_type": "stream",
     "text": [
      "2733\n"
     ]
    }
   ],
   "source": [
    "query_index = np.random.choice(df_final_pivot.shape[0])\n",
    "print(query_index)\n",
    "distances, indices = model_knn.kneighbors(df_final_pivot.iloc[query_index,:].values.reshape(1, -1), n_neighbors = 6)"
   ]
  },
  {
   "cell_type": "code",
   "execution_count": 200,
   "metadata": {},
   "outputs": [
    {
     "data": {
      "text/plain": [
       "array([[0., 0., 0., ..., 0., 0., 0.]])"
      ]
     },
     "execution_count": 200,
     "metadata": {},
     "output_type": "execute_result"
    }
   ],
   "source": [
    "df_final_pivot.iloc[query_index,:].values.reshape(1,-1)"
   ]
  },
  {
   "cell_type": "code",
   "execution_count": 201,
   "metadata": {},
   "outputs": [
    {
     "data": {
      "text/plain": [
       "'Mirai Shounen Conan'"
      ]
     },
     "execution_count": 201,
     "metadata": {},
     "output_type": "execute_result"
    }
   ],
   "source": [
    "df_final_pivot.index[query_index]"
   ]
  },
  {
   "cell_type": "code",
   "execution_count": 204,
   "metadata": {},
   "outputs": [
    {
     "name": "stdout",
     "output_type": "stream",
     "text": [
      "Recommendations for Mirai Shounen Conan:\n",
      "\n"
     ]
    },
    {
     "data": {
      "text/html": [
       "<div>\n",
       "<style scoped>\n",
       "    .dataframe tbody tr th:only-of-type {\n",
       "        vertical-align: middle;\n",
       "    }\n",
       "\n",
       "    .dataframe tbody tr th {\n",
       "        vertical-align: top;\n",
       "    }\n",
       "\n",
       "    .dataframe thead th {\n",
       "        text-align: right;\n",
       "    }\n",
       "</style>\n",
       "<table border=\"1\" class=\"dataframe\">\n",
       "  <thead>\n",
       "    <tr style=\"text-align: right;\">\n",
       "      <th></th>\n",
       "      <th>Recommended Movie</th>\n",
       "      <th>Distance</th>\n",
       "    </tr>\n",
       "  </thead>\n",
       "  <tbody>\n",
       "    <tr>\n",
       "      <th>0</th>\n",
       "      <td>Romeo no Aoi Sora</td>\n",
       "      <td>0.575306</td>\n",
       "    </tr>\n",
       "    <tr>\n",
       "      <th>1</th>\n",
       "      <td>Takarajima</td>\n",
       "      <td>0.590284</td>\n",
       "    </tr>\n",
       "    <tr>\n",
       "      <th>2</th>\n",
       "      <td>Ie Naki Ko Remi</td>\n",
       "      <td>0.646967</td>\n",
       "    </tr>\n",
       "    <tr>\n",
       "      <th>3</th>\n",
       "      <td>Ginga Sengoku Gunyuuden Rai</td>\n",
       "      <td>0.666188</td>\n",
       "    </tr>\n",
       "    <tr>\n",
       "      <th>4</th>\n",
       "      <td>Honoo no Toukyuuji: Dodge Danpei</td>\n",
       "      <td>0.668499</td>\n",
       "    </tr>\n",
       "  </tbody>\n",
       "</table>\n",
       "</div>"
      ],
      "text/plain": [
       "                  Recommended Movie  Distance\n",
       "0                 Romeo no Aoi Sora  0.575306\n",
       "1                        Takarajima  0.590284\n",
       "2                   Ie Naki Ko Remi  0.646967\n",
       "3       Ginga Sengoku Gunyuuden Rai  0.666188\n",
       "4  Honoo no Toukyuuji: Dodge Danpei  0.668499"
      ]
     },
     "execution_count": 204,
     "metadata": {},
     "output_type": "execute_result"
    }
   ],
   "source": [
    "l1,l2 = [],[]\n",
    "for i in range(0, len(distances.flatten())):\n",
    "    if i == 0:\n",
    "        print('Recommendations for {0}:\\n'.format(df_final_pivot.index[query_index]))\n",
    "    else:\n",
    "        l1.append(df_final_pivot.index[indices.flatten()[i]])\n",
    "        l2.append(distances.flatten()[i])\n",
    "        #print('{0}: {1}, --> {2}:'.format(i, df_final_pivot.index[indices.flatten()[i]], distances.flatten()[i]))\n",
    "l3 = pd.DataFrame(list(zip(l1,l2)),columns=['Recommended Movie','Distance'])\n",
    "l3"
   ]
  },
  {
   "cell_type": "markdown",
   "metadata": {},
   "source": [
    "# =============================================================="
   ]
  },
  {
   "cell_type": "markdown",
   "metadata": {},
   "source": [
    "# Implementing Collaborative Filtering with Pearson Correlation"
   ]
  },
  {
   "cell_type": "markdown",
   "metadata": {},
   "source": [
    "# =============================================================="
   ]
  },
  {
   "cell_type": "code",
   "execution_count": 4,
   "metadata": {},
   "outputs": [],
   "source": [
    "df_rating.replace({-1:np.nan},inplace=True)"
   ]
  },
  {
   "cell_type": "code",
   "execution_count": 5,
   "metadata": {},
   "outputs": [
    {
     "data": {
      "text/plain": [
       "<matplotlib.axes._subplots.AxesSubplot at 0x21815403080>"
      ]
     },
     "execution_count": 5,
     "metadata": {},
     "output_type": "execute_result"
    },
    {
     "data": {
      "image/png": "[encoded data removed]",
      "text/plain": [
       "<Figure size 1080x288 with 1 Axes>"
      ]
     },
     "metadata": {},
     "output_type": "display_data"
    }
   ],
   "source": [
    "plt.figure(figsize=(15,4))\n",
    "sns.countplot(x=df_rating.rating,data=df_rating)"
   ]
  },
  {
   "cell_type": "code",
   "execution_count": 6,
   "metadata": {},
   "outputs": [],
   "source": [
    "# Here we are trying to make a recommendation system with the help of correlations\n",
    "# We will be seeing how one book is related to another anime and on that basis animes will be recommended, i.e the books \n",
    "# with high correlation to a anime will be most likely to be recommended"
   ]
  },
  {
   "cell_type": "code",
   "execution_count": 7,
   "metadata": {},
   "outputs": [],
   "source": [
    "df_rating.fillna(value=0,inplace=True)"
   ]
  },
  {
   "cell_type": "code",
   "execution_count": 8,
   "metadata": {},
   "outputs": [
    {
     "data": {
      "text/html": [
       "<div>\n",
       "<style scoped>\n",
       "    .dataframe tbody tr th:only-of-type {\n",
       "        vertical-align: middle;\n",
       "    }\n",
       "\n",
       "    .dataframe tbody tr th {\n",
       "        vertical-align: top;\n",
       "    }\n",
       "\n",
       "    .dataframe thead th {\n",
       "        text-align: right;\n",
       "    }\n",
       "</style>\n",
       "<table border=\"1\" class=\"dataframe\">\n",
       "  <thead>\n",
       "    <tr style=\"text-align: right;\">\n",
       "      <th></th>\n",
       "      <th>Anime Id</th>\n",
       "      <th>#Ratings</th>\n",
       "      <th>Anime Name</th>\n",
       "      <th>Average Rating</th>\n",
       "    </tr>\n",
       "  </thead>\n",
       "  <tbody>\n",
       "    <tr>\n",
       "      <th>0</th>\n",
       "      <td>1535.0</td>\n",
       "      <td>39340</td>\n",
       "      <td>Death Note</td>\n",
       "      <td>8.71</td>\n",
       "    </tr>\n",
       "    <tr>\n",
       "      <th>1</th>\n",
       "      <td>11757.0</td>\n",
       "      <td>30583</td>\n",
       "      <td>Sword Art Online</td>\n",
       "      <td>7.83</td>\n",
       "    </tr>\n",
       "    <tr>\n",
       "      <th>2</th>\n",
       "      <td>16498.0</td>\n",
       "      <td>29584</td>\n",
       "      <td>Shingeki no Kyojin</td>\n",
       "      <td>8.54</td>\n",
       "    </tr>\n",
       "    <tr>\n",
       "      <th>3</th>\n",
       "      <td>1575.0</td>\n",
       "      <td>27718</td>\n",
       "      <td>Code Geass: Hangyaku no Lelouch</td>\n",
       "      <td>8.83</td>\n",
       "    </tr>\n",
       "    <tr>\n",
       "      <th>4</th>\n",
       "      <td>226.0</td>\n",
       "      <td>27506</td>\n",
       "      <td>Elfen Lied</td>\n",
       "      <td>7.85</td>\n",
       "    </tr>\n",
       "  </tbody>\n",
       "</table>\n",
       "</div>"
      ],
      "text/plain": [
       "   Anime Id  #Ratings                       Anime Name  Average Rating\n",
       "0    1535.0     39340                       Death Note            8.71\n",
       "1   11757.0     30583                 Sword Art Online            7.83\n",
       "2   16498.0     29584               Shingeki no Kyojin            8.54\n",
       "3    1575.0     27718  Code Geass: Hangyaku no Lelouch            8.83\n",
       "4     226.0     27506                       Elfen Lied            7.85"
      ]
     },
     "execution_count": 8,
     "metadata": {},
     "output_type": "execute_result"
    }
   ],
   "source": [
    "rating_count = pd.DataFrame(df_rating.groupby('anime_id')['rating'].count())\n",
    "rating_count.sort_values('rating',ascending=False,inplace=True)\n",
    "\n",
    "rating_count.reset_index(inplace=True)\n",
    "df_merged = pd.merge(rating_count,df_anime,on='anime_id')\n",
    "\n",
    "df_merged.drop(columns=['genre','type','episodes','members'],axis=1,inplace=True)\n",
    "df_merged.columns = ['Anime Id','#Ratings','Anime Name','Average Rating']\n",
    "df_merged.head()"
   ]
  },
  {
   "cell_type": "code",
   "execution_count": 9,
   "metadata": {},
   "outputs": [],
   "source": [
    "# These above are the recommendations on the basis of number of times ratings provided."
   ]
  },
  {
   "cell_type": "code",
   "execution_count": 10,
   "metadata": {},
   "outputs": [],
   "source": [
    "# Now we will try to make recommendation by using the Pearson's R Co-efficient to measure the linear correlation between 2\n",
    "# variables, in our case, ratings for 2 animes.\n",
    "# First we need to find out the average rating and the number or ratings each book received."
   ]
  },
  {
   "cell_type": "code",
   "execution_count": 11,
   "metadata": {},
   "outputs": [
    {
     "data": {
      "text/html": [
       "<div>\n",
       "<style scoped>\n",
       "    .dataframe tbody tr th:only-of-type {\n",
       "        vertical-align: middle;\n",
       "    }\n",
       "\n",
       "    .dataframe tbody tr th {\n",
       "        vertical-align: top;\n",
       "    }\n",
       "\n",
       "    .dataframe thead th {\n",
       "        text-align: right;\n",
       "    }\n",
       "</style>\n",
       "<table border=\"1\" class=\"dataframe\">\n",
       "  <thead>\n",
       "    <tr style=\"text-align: right;\">\n",
       "      <th></th>\n",
       "      <th>rating</th>\n",
       "      <th>Rating_Count</th>\n",
       "    </tr>\n",
       "    <tr>\n",
       "      <th>anime_id</th>\n",
       "      <th></th>\n",
       "      <th></th>\n",
       "    </tr>\n",
       "  </thead>\n",
       "  <tbody>\n",
       "    <tr>\n",
       "      <th>1535.0</th>\n",
       "      <td>7.686172</td>\n",
       "      <td>39340</td>\n",
       "    </tr>\n",
       "    <tr>\n",
       "      <th>11757.0</th>\n",
       "      <td>7.002877</td>\n",
       "      <td>30583</td>\n",
       "    </tr>\n",
       "    <tr>\n",
       "      <th>16498.0</th>\n",
       "      <td>7.459235</td>\n",
       "      <td>29584</td>\n",
       "    </tr>\n",
       "    <tr>\n",
       "      <th>1575.0</th>\n",
       "      <td>7.770835</td>\n",
       "      <td>27718</td>\n",
       "    </tr>\n",
       "    <tr>\n",
       "      <th>226.0</th>\n",
       "      <td>6.898131</td>\n",
       "      <td>27506</td>\n",
       "    </tr>\n",
       "  </tbody>\n",
       "</table>\n",
       "</div>"
      ],
      "text/plain": [
       "            rating  Rating_Count\n",
       "anime_id                        \n",
       "1535.0    7.686172         39340\n",
       "11757.0   7.002877         30583\n",
       "16498.0   7.459235         29584\n",
       "1575.0    7.770835         27718\n",
       "226.0     6.898131         27506"
      ]
     },
     "execution_count": 11,
     "metadata": {},
     "output_type": "execute_result"
    }
   ],
   "source": [
    "average_rating = pd.DataFrame(df_rating.groupby('anime_id')['rating'].mean())\n",
    "average_rating['Rating_Count'] = pd.DataFrame(df_rating.groupby('anime_id')['rating'].count())\n",
    "average_rating.sort_values('Rating_Count',ascending=False).head()"
   ]
  },
  {
   "cell_type": "code",
   "execution_count": 12,
   "metadata": {},
   "outputs": [],
   "source": [
    "# Here we are taking Rating_Count as well as the average rating a particular anime received because in the earlier \n",
    "# recommendation we only recommended on the basis of number of ratings an anime received, which is giving us biased results\n",
    "# because we are not taking into account the fact that the movie with most number of ratings might not be a good one and, in\n",
    "# our case as we saw above that was not the case but still this recommendation system in actual world scenario will give us\n",
    "# biased results, hence we will be taking that biasness out of the equation by taking average rating into account."
   ]
  },
  {
   "cell_type": "markdown",
   "metadata": {},
   "source": [
    "### Now to ensure Statistical significance, users with less than 200 ratings and books with less than 100 ratings are excluded."
   ]
  },
  {
   "cell_type": "code",
   "execution_count": 13,
   "metadata": {},
   "outputs": [],
   "source": [
    "counts1 = df_rating['user_id'].value_counts()\n",
    "df_rating = df_rating[df_rating['user_id'].isin(counts1[counts1>=200].index)]\n",
    "counts = df_rating['rating'].value_counts()\n",
    "df_rating = df_rating[df_rating['rating'].isin(counts[counts>=200].index)]"
   ]
  },
  {
   "cell_type": "code",
   "execution_count": 14,
   "metadata": {},
   "outputs": [
    {
     "name": "stdout",
     "output_type": "stream",
     "text": [
      "(11278, 11192)\n"
     ]
    },
    {
     "data": {
      "text/html": [
       "<div>\n",
       "<style scoped>\n",
       "    .dataframe tbody tr th:only-of-type {\n",
       "        vertical-align: middle;\n",
       "    }\n",
       "\n",
       "    .dataframe tbody tr th {\n",
       "        vertical-align: top;\n",
       "    }\n",
       "\n",
       "    .dataframe thead th {\n",
       "        text-align: right;\n",
       "    }\n",
       "</style>\n",
       "<table border=\"1\" class=\"dataframe\">\n",
       "  <thead>\n",
       "    <tr style=\"text-align: right;\">\n",
       "      <th>anime_id</th>\n",
       "      <th>1.0</th>\n",
       "      <th>5.0</th>\n",
       "      <th>6.0</th>\n",
       "      <th>7.0</th>\n",
       "      <th>8.0</th>\n",
       "      <th>15.0</th>\n",
       "      <th>16.0</th>\n",
       "      <th>17.0</th>\n",
       "      <th>18.0</th>\n",
       "      <th>19.0</th>\n",
       "      <th>...</th>\n",
       "      <th>34283.0</th>\n",
       "      <th>34324.0</th>\n",
       "      <th>34325.0</th>\n",
       "      <th>34349.0</th>\n",
       "      <th>34358.0</th>\n",
       "      <th>34367.0</th>\n",
       "      <th>34412.0</th>\n",
       "      <th>34475.0</th>\n",
       "      <th>34476.0</th>\n",
       "      <th>34519.0</th>\n",
       "    </tr>\n",
       "    <tr>\n",
       "      <th>user_id</th>\n",
       "      <th></th>\n",
       "      <th></th>\n",
       "      <th></th>\n",
       "      <th></th>\n",
       "      <th></th>\n",
       "      <th></th>\n",
       "      <th></th>\n",
       "      <th></th>\n",
       "      <th></th>\n",
       "      <th></th>\n",
       "      <th></th>\n",
       "      <th></th>\n",
       "      <th></th>\n",
       "      <th></th>\n",
       "      <th></th>\n",
       "      <th></th>\n",
       "      <th></th>\n",
       "      <th></th>\n",
       "      <th></th>\n",
       "      <th></th>\n",
       "      <th></th>\n",
       "    </tr>\n",
       "  </thead>\n",
       "  <tbody>\n",
       "    <tr>\n",
       "      <th>5.0</th>\n",
       "      <td>NaN</td>\n",
       "      <td>NaN</td>\n",
       "      <td>8.0</td>\n",
       "      <td>NaN</td>\n",
       "      <td>NaN</td>\n",
       "      <td>6.0</td>\n",
       "      <td>NaN</td>\n",
       "      <td>6.0</td>\n",
       "      <td>6.0</td>\n",
       "      <td>NaN</td>\n",
       "      <td>...</td>\n",
       "      <td>NaN</td>\n",
       "      <td>NaN</td>\n",
       "      <td>NaN</td>\n",
       "      <td>NaN</td>\n",
       "      <td>NaN</td>\n",
       "      <td>NaN</td>\n",
       "      <td>NaN</td>\n",
       "      <td>NaN</td>\n",
       "      <td>NaN</td>\n",
       "      <td>NaN</td>\n",
       "    </tr>\n",
       "    <tr>\n",
       "      <th>7.0</th>\n",
       "      <td>NaN</td>\n",
       "      <td>NaN</td>\n",
       "      <td>NaN</td>\n",
       "      <td>NaN</td>\n",
       "      <td>NaN</td>\n",
       "      <td>NaN</td>\n",
       "      <td>NaN</td>\n",
       "      <td>NaN</td>\n",
       "      <td>NaN</td>\n",
       "      <td>NaN</td>\n",
       "      <td>...</td>\n",
       "      <td>NaN</td>\n",
       "      <td>NaN</td>\n",
       "      <td>NaN</td>\n",
       "      <td>NaN</td>\n",
       "      <td>NaN</td>\n",
       "      <td>NaN</td>\n",
       "      <td>NaN</td>\n",
       "      <td>NaN</td>\n",
       "      <td>NaN</td>\n",
       "      <td>NaN</td>\n",
       "    </tr>\n",
       "    <tr>\n",
       "      <th>17.0</th>\n",
       "      <td>NaN</td>\n",
       "      <td>NaN</td>\n",
       "      <td>7.0</td>\n",
       "      <td>NaN</td>\n",
       "      <td>NaN</td>\n",
       "      <td>NaN</td>\n",
       "      <td>NaN</td>\n",
       "      <td>NaN</td>\n",
       "      <td>NaN</td>\n",
       "      <td>10.0</td>\n",
       "      <td>...</td>\n",
       "      <td>NaN</td>\n",
       "      <td>NaN</td>\n",
       "      <td>NaN</td>\n",
       "      <td>NaN</td>\n",
       "      <td>NaN</td>\n",
       "      <td>NaN</td>\n",
       "      <td>NaN</td>\n",
       "      <td>NaN</td>\n",
       "      <td>NaN</td>\n",
       "      <td>NaN</td>\n",
       "    </tr>\n",
       "    <tr>\n",
       "      <th>38.0</th>\n",
       "      <td>NaN</td>\n",
       "      <td>NaN</td>\n",
       "      <td>NaN</td>\n",
       "      <td>NaN</td>\n",
       "      <td>NaN</td>\n",
       "      <td>NaN</td>\n",
       "      <td>NaN</td>\n",
       "      <td>NaN</td>\n",
       "      <td>NaN</td>\n",
       "      <td>NaN</td>\n",
       "      <td>...</td>\n",
       "      <td>NaN</td>\n",
       "      <td>NaN</td>\n",
       "      <td>NaN</td>\n",
       "      <td>NaN</td>\n",
       "      <td>NaN</td>\n",
       "      <td>NaN</td>\n",
       "      <td>NaN</td>\n",
       "      <td>NaN</td>\n",
       "      <td>NaN</td>\n",
       "      <td>NaN</td>\n",
       "    </tr>\n",
       "    <tr>\n",
       "      <th>43.0</th>\n",
       "      <td>10.0</td>\n",
       "      <td>NaN</td>\n",
       "      <td>NaN</td>\n",
       "      <td>NaN</td>\n",
       "      <td>NaN</td>\n",
       "      <td>7.0</td>\n",
       "      <td>NaN</td>\n",
       "      <td>NaN</td>\n",
       "      <td>NaN</td>\n",
       "      <td>NaN</td>\n",
       "      <td>...</td>\n",
       "      <td>NaN</td>\n",
       "      <td>NaN</td>\n",
       "      <td>NaN</td>\n",
       "      <td>NaN</td>\n",
       "      <td>NaN</td>\n",
       "      <td>NaN</td>\n",
       "      <td>NaN</td>\n",
       "      <td>NaN</td>\n",
       "      <td>NaN</td>\n",
       "      <td>NaN</td>\n",
       "    </tr>\n",
       "  </tbody>\n",
       "</table>\n",
       "<p>5 rows × 11192 columns</p>\n",
       "</div>"
      ],
      "text/plain": [
       "anime_id  1.0      5.0      6.0      7.0      8.0      15.0     16.0     \\\n",
       "user_id                                                                   \n",
       "5.0           NaN      NaN      8.0      NaN      NaN      6.0      NaN   \n",
       "7.0           NaN      NaN      NaN      NaN      NaN      NaN      NaN   \n",
       "17.0          NaN      NaN      7.0      NaN      NaN      NaN      NaN   \n",
       "38.0          NaN      NaN      NaN      NaN      NaN      NaN      NaN   \n",
       "43.0         10.0      NaN      NaN      NaN      NaN      7.0      NaN   \n",
       "\n",
       "anime_id  17.0     18.0     19.0      ...     34283.0  34324.0  34325.0  \\\n",
       "user_id                               ...                                 \n",
       "5.0           6.0      6.0      NaN   ...         NaN      NaN      NaN   \n",
       "7.0           NaN      NaN      NaN   ...         NaN      NaN      NaN   \n",
       "17.0          NaN      NaN     10.0   ...         NaN      NaN      NaN   \n",
       "38.0          NaN      NaN      NaN   ...         NaN      NaN      NaN   \n",
       "43.0          NaN      NaN      NaN   ...         NaN      NaN      NaN   \n",
       "\n",
       "anime_id  34349.0  34358.0  34367.0  34412.0  34475.0  34476.0  34519.0  \n",
       "user_id                                                                  \n",
       "5.0           NaN      NaN      NaN      NaN      NaN      NaN      NaN  \n",
       "7.0           NaN      NaN      NaN      NaN      NaN      NaN      NaN  \n",
       "17.0          NaN      NaN      NaN      NaN      NaN      NaN      NaN  \n",
       "38.0          NaN      NaN      NaN      NaN      NaN      NaN      NaN  \n",
       "43.0          NaN      NaN      NaN      NaN      NaN      NaN      NaN  \n",
       "\n",
       "[5 rows x 11192 columns]"
      ]
     },
     "execution_count": 14,
     "metadata": {},
     "output_type": "execute_result"
    }
   ],
   "source": [
    "ratings_pivot = df_rating.pivot(index='user_id',columns='anime_id').rating\n",
    "userID = ratings_pivot.index\n",
    "animeID = ratings_pivot.columns\n",
    "print(ratings_pivot.shape)\n",
    "ratings_pivot.head()"
   ]
  },
  {
   "cell_type": "code",
   "execution_count": 30,
   "metadata": {},
   "outputs": [
    {
     "name": "stderr",
     "output_type": "stream",
     "text": [
      "C:\\ProgramData\\Anaconda3\\lib\\site-packages\\numpy\\lib\\function_base.py:2551: RuntimeWarning: Degrees of freedom <= 0 for slice\n",
      "  c = cov(x, y, rowvar)\n",
      "C:\\ProgramData\\Anaconda3\\lib\\site-packages\\numpy\\lib\\function_base.py:2480: RuntimeWarning: divide by zero encountered in true_divide\n",
      "  c *= np.true_divide(1, fact)\n"
     ]
    }
   ],
   "source": [
    "bones_rating = ratings_pivot[11757]\n",
    "similar_to_bones = ratings_pivot.corrwith(bones_rating)\n",
    "corr_bones = pd.DataFrame(similar_to_bones,columns=['PearsonR'])\n",
    "corr_bones.dropna(inplace=True)\n",
    "corr_summary = corr_bones.join(average_rating['Rating_Count'])\n",
    "x = corr_summary[corr_summary['Rating_Count']>=400].sort_values('PearsonR',ascending=False).head(10)"
   ]
  },
  {
   "cell_type": "code",
   "execution_count": 31,
   "metadata": {},
   "outputs": [],
   "source": [
    "# We have received the Anime ID's, but now we need the book names in order to make final recommendations"
   ]
  },
  {
   "cell_type": "code",
   "execution_count": 32,
   "metadata": {},
   "outputs": [
    {
     "data": {
      "text/html": [
       "<div>\n",
       "<style scoped>\n",
       "    .dataframe tbody tr th:only-of-type {\n",
       "        vertical-align: middle;\n",
       "    }\n",
       "\n",
       "    .dataframe tbody tr th {\n",
       "        vertical-align: top;\n",
       "    }\n",
       "\n",
       "    .dataframe thead th {\n",
       "        text-align: right;\n",
       "    }\n",
       "</style>\n",
       "<table border=\"1\" class=\"dataframe\">\n",
       "  <thead>\n",
       "    <tr style=\"text-align: right;\">\n",
       "      <th></th>\n",
       "      <th>PearsonR</th>\n",
       "      <th>Rating_Count</th>\n",
       "      <th>name</th>\n",
       "    </tr>\n",
       "  </thead>\n",
       "  <tbody>\n",
       "    <tr>\n",
       "      <th>0</th>\n",
       "      <td>1.000000</td>\n",
       "      <td>30583</td>\n",
       "      <td>Sword Art Online</td>\n",
       "    </tr>\n",
       "    <tr>\n",
       "      <th>1</th>\n",
       "      <td>0.793042</td>\n",
       "      <td>405</td>\n",
       "      <td>Senjou no Valkyria 3: Tagatame no Juusou</td>\n",
       "    </tr>\n",
       "    <tr>\n",
       "      <th>2</th>\n",
       "      <td>0.775169</td>\n",
       "      <td>873</td>\n",
       "      <td>Hayate no Gotoku! Cuties</td>\n",
       "    </tr>\n",
       "    <tr>\n",
       "      <th>3</th>\n",
       "      <td>0.762088</td>\n",
       "      <td>13814</td>\n",
       "      <td>Sword Art Online II</td>\n",
       "    </tr>\n",
       "    <tr>\n",
       "      <th>4</th>\n",
       "      <td>0.756864</td>\n",
       "      <td>1484</td>\n",
       "      <td>Vividred Operation</td>\n",
       "    </tr>\n",
       "  </tbody>\n",
       "</table>\n",
       "</div>"
      ],
      "text/plain": [
       "   PearsonR  Rating_Count                                      name\n",
       "0  1.000000         30583                          Sword Art Online\n",
       "1  0.793042           405  Senjou no Valkyria 3: Tagatame no Juusou\n",
       "2  0.775169           873                  Hayate no Gotoku! Cuties\n",
       "3  0.762088         13814                       Sword Art Online II\n",
       "4  0.756864          1484                        Vividred Operation"
      ]
     },
     "execution_count": 32,
     "metadata": {},
     "output_type": "execute_result"
    }
   ],
   "source": [
    "x.reset_index(inplace=True)\n",
    "x = pd.merge(x,df_anime,on='anime_id')\n",
    "x.drop(columns=['genre','type','episodes','members','rating','anime_id'],axis=1,inplace=True)\n",
    "x.head()"
   ]
  },
  {
   "cell_type": "code",
   "execution_count": 36,
   "metadata": {},
   "outputs": [],
   "source": [
    "# This concludes our project for making recommendations for Anime"
   ]
  }
 ],
 "metadata": {
  "kernelspec": {
   "display_name": "Python 3",
   "language": "python",
   "name": "python3"
  },
  "language_info": {
   "codemirror_mode": {
    "name": "ipython",
    "version": 3
   },
   "file_extension": ".py",
   "mimetype": "text/x-python",
   "name": "python",
   "nbconvert_exporter": "python",
   "pygments_lexer": "ipython3",
   "version": "3.6.5"
  }
 },
 "nbformat": 4,
 "nbformat_minor": 2
}
